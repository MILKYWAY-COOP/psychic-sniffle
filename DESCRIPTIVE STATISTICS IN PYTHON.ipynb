{
 "cells": [
  {
   "cell_type": "code",
   "execution_count": 1,
   "id": "a0daf295",
   "metadata": {},
   "outputs": [
    {
     "data": {
      "text/plain": [
       "Female    8\n",
       "Male      8\n",
       "dtype: int64"
      ]
     },
     "execution_count": 1,
     "metadata": {},
     "output_type": "execute_result"
    }
   ],
   "source": [
    "# One-Way Frequency Table for a Series\n",
    "import pandas as pd\n",
    "#Define Series\n",
    "gender = pd.Series([\"Female\", \"Male\", \"Male\", \"Female\", \"Male\",\n",
    "\"Male\", \"Female\",\"Female\",\"Female\", \"Female\", \"Male\", \"Male\",\n",
    "\"Female\",\"Male\", \"Male\", \"Female\"])\n",
    "#Find frequencies of each value\n",
    "gender.value_counts()"
   ]
  },
  {
   "cell_type": "code",
   "execution_count": 9,
   "id": "4fb1f60d",
   "metadata": {},
   "outputs": [
    {
     "name": "stdout",
     "output_type": "stream",
     "text": [
      "  Grade  Age Gender\n",
      "0     A   18      M\n",
      "1     A   18      M\n",
      "2     A   18      F\n",
      "3     B   19      F\n",
      "4     B   19      F\n",
      "5     B   20      M\n",
      "6     B   18      M\n",
      "7     C   18      F\n",
      "8     D   19      M\n",
      "9     D   19      F\n",
      "col_0  count\n",
      "Grade       \n",
      "A          3\n",
      "B          4\n",
      "C          1\n",
      "D          2\n",
      "col_0  count\n",
      "Age         \n",
      "18         5\n",
      "19         4\n",
      "20         1\n",
      "col_0   count\n",
      "Gender       \n",
      "F           5\n",
      "M           5\n"
     ]
    },
    {
     "data": {
      "text/html": [
       "<div>\n",
       "<style scoped>\n",
       "    .dataframe tbody tr th:only-of-type {\n",
       "        vertical-align: middle;\n",
       "    }\n",
       "\n",
       "    .dataframe tbody tr th {\n",
       "        vertical-align: top;\n",
       "    }\n",
       "\n",
       "    .dataframe thead th {\n",
       "        text-align: right;\n",
       "    }\n",
       "</style>\n",
       "<table border=\"1\" class=\"dataframe\">\n",
       "  <thead>\n",
       "    <tr style=\"text-align: right;\">\n",
       "      <th>col_0</th>\n",
       "      <th>count</th>\n",
       "    </tr>\n",
       "    <tr>\n",
       "      <th>Age</th>\n",
       "      <th></th>\n",
       "    </tr>\n",
       "  </thead>\n",
       "  <tbody>\n",
       "    <tr>\n",
       "      <th>18</th>\n",
       "      <td>0.5</td>\n",
       "    </tr>\n",
       "    <tr>\n",
       "      <th>19</th>\n",
       "      <td>0.4</td>\n",
       "    </tr>\n",
       "    <tr>\n",
       "      <th>20</th>\n",
       "      <td>0.1</td>\n",
       "    </tr>\n",
       "  </tbody>\n",
       "</table>\n",
       "</div>"
      ],
      "text/plain": [
       "col_0  count\n",
       "Age         \n",
       "18       0.5\n",
       "19       0.4\n",
       "20       0.1"
      ]
     },
     "execution_count": 9,
     "metadata": {},
     "output_type": "execute_result"
    }
   ],
   "source": [
    "# One-Way Frequency Table for a DataFrame\n",
    "import pandas as pd\n",
    "#Create data\n",
    "df = pd.DataFrame({'Grade': ['A','A','A','B','B', 'B', 'B', 'C',\n",
    "'D', 'D'],'Age': [18, 18, 18, 19, 19, 20, 18, 18, 19, 19],\n",
    "'Gender': ['M','M', 'F', 'F', 'F', 'M', 'M', 'F', 'M', 'F']})\n",
    "#View the data\n",
    "print(df)\n",
    "#Find the frequency of each letter grade\n",
    "grade = pd.crosstab(index=df['Grade'], columns='count')\n",
    "print(grade)\n",
    "#Find the frequency of Age\n",
    "age = pd.crosstab(index=df['Age'], columns='count')\n",
    "print(age)\n",
    "#Find the frequency of each letter gender\n",
    "gender = pd.crosstab(index=df['Gender'], columns='count')\n",
    "print(gender)"
   ]
  },
  {
   "cell_type": "code",
   "execution_count": 10,
   "id": "c039aebc",
   "metadata": {},
   "outputs": [
    {
     "data": {
      "text/html": [
       "<div>\n",
       "<style scoped>\n",
       "    .dataframe tbody tr th:only-of-type {\n",
       "        vertical-align: middle;\n",
       "    }\n",
       "\n",
       "    .dataframe tbody tr th {\n",
       "        vertical-align: top;\n",
       "    }\n",
       "\n",
       "    .dataframe thead th {\n",
       "        text-align: right;\n",
       "    }\n",
       "</style>\n",
       "<table border=\"1\" class=\"dataframe\">\n",
       "  <thead>\n",
       "    <tr style=\"text-align: right;\">\n",
       "      <th>Grade</th>\n",
       "      <th>A</th>\n",
       "      <th>B</th>\n",
       "      <th>C</th>\n",
       "      <th>D</th>\n",
       "    </tr>\n",
       "    <tr>\n",
       "      <th>Age</th>\n",
       "      <th></th>\n",
       "      <th></th>\n",
       "      <th></th>\n",
       "      <th></th>\n",
       "    </tr>\n",
       "  </thead>\n",
       "  <tbody>\n",
       "    <tr>\n",
       "      <th>18</th>\n",
       "      <td>3</td>\n",
       "      <td>1</td>\n",
       "      <td>1</td>\n",
       "      <td>0</td>\n",
       "    </tr>\n",
       "    <tr>\n",
       "      <th>19</th>\n",
       "      <td>0</td>\n",
       "      <td>2</td>\n",
       "      <td>0</td>\n",
       "      <td>2</td>\n",
       "    </tr>\n",
       "    <tr>\n",
       "      <th>20</th>\n",
       "      <td>0</td>\n",
       "      <td>1</td>\n",
       "      <td>0</td>\n",
       "      <td>0</td>\n",
       "    </tr>\n",
       "  </tbody>\n",
       "</table>\n",
       "</div>"
      ],
      "text/plain": [
       "Grade  A  B  C  D\n",
       "Age              \n",
       "18     3  1  1  0\n",
       "19     0  2  0  2\n",
       "20     0  1  0  0"
      ]
     },
     "execution_count": 10,
     "metadata": {},
     "output_type": "execute_result"
    }
   ],
   "source": [
    "# Two-Way Frequency Tables for a DataFrame\n",
    "import pandas as pd\n",
    "#Create data\n",
    "df = pd.DataFrame({'Grade': ['A','A','A','B','B', 'B', 'B', 'C',\n",
    "'D', 'D'],'Age': [18, 18, 18, 19, 19, 20, 18, 18, 19, 19],\n",
    "'Gender': ['M','M', 'F', 'F', 'F', 'M', 'M', 'F', 'M', 'F']})\n",
    "pd.crosstab(index=df['Age'], columns=df['Grade'])"
   ]
  },
  {
   "cell_type": "code",
   "execution_count": 11,
   "id": "9c95528f",
   "metadata": {},
   "outputs": [
    {
     "data": {
      "text/plain": [
       "count    15.000000\n",
       "mean      4.533333\n",
       "std       2.386470\n",
       "min       1.000000\n",
       "25%       3.000000\n",
       "50%       4.000000\n",
       "75%       6.500000\n",
       "max       9.000000\n",
       "dtype: float64"
      ]
     },
     "execution_count": 11,
     "metadata": {},
     "output_type": "execute_result"
    }
   ],
   "source": [
    "import pandas as pd\n",
    "# Create a Series\n",
    "numericSeries = pd.Series([8,4,7,3,2,5,1,4,3,7,9,6,2,4,3])\n",
    "# Apply describe function\n",
    "numericSeries.describe()"
   ]
  },
  {
   "cell_type": "code",
   "execution_count": 12,
   "id": "51d240ef",
   "metadata": {},
   "outputs": [
    {
     "data": {
      "text/html": [
       "<div>\n",
       "<style scoped>\n",
       "    .dataframe tbody tr th:only-of-type {\n",
       "        vertical-align: middle;\n",
       "    }\n",
       "\n",
       "    .dataframe tbody tr th {\n",
       "        vertical-align: top;\n",
       "    }\n",
       "\n",
       "    .dataframe thead th {\n",
       "        text-align: right;\n",
       "    }\n",
       "</style>\n",
       "<table border=\"1\" class=\"dataframe\">\n",
       "  <thead>\n",
       "    <tr style=\"text-align: right;\">\n",
       "      <th></th>\n",
       "      <th>Subject_1_Marks</th>\n",
       "      <th>Subject_2_Marks</th>\n",
       "      <th>Subject_3_Marks</th>\n",
       "    </tr>\n",
       "  </thead>\n",
       "  <tbody>\n",
       "    <tr>\n",
       "      <th>count</th>\n",
       "      <td>5.00000</td>\n",
       "      <td>5.000000</td>\n",
       "      <td>5.000000</td>\n",
       "    </tr>\n",
       "    <tr>\n",
       "      <th>mean</th>\n",
       "      <td>26.80000</td>\n",
       "      <td>33.800000</td>\n",
       "      <td>26.200000</td>\n",
       "    </tr>\n",
       "    <tr>\n",
       "      <th>std</th>\n",
       "      <td>15.64289</td>\n",
       "      <td>12.557866</td>\n",
       "      <td>13.989282</td>\n",
       "    </tr>\n",
       "    <tr>\n",
       "      <th>min</th>\n",
       "      <td>12.00000</td>\n",
       "      <td>21.000000</td>\n",
       "      <td>8.000000</td>\n",
       "    </tr>\n",
       "    <tr>\n",
       "      <th>25%</th>\n",
       "      <td>14.00000</td>\n",
       "      <td>23.000000</td>\n",
       "      <td>21.000000</td>\n",
       "    </tr>\n",
       "    <tr>\n",
       "      <th>50%</th>\n",
       "      <td>21.00000</td>\n",
       "      <td>32.000000</td>\n",
       "      <td>23.000000</td>\n",
       "    </tr>\n",
       "    <tr>\n",
       "      <th>75%</th>\n",
       "      <td>42.00000</td>\n",
       "      <td>43.000000</td>\n",
       "      <td>34.000000</td>\n",
       "    </tr>\n",
       "    <tr>\n",
       "      <th>max</th>\n",
       "      <td>45.00000</td>\n",
       "      <td>50.000000</td>\n",
       "      <td>45.000000</td>\n",
       "    </tr>\n",
       "  </tbody>\n",
       "</table>\n",
       "</div>"
      ],
      "text/plain": [
       "       Subject_1_Marks  Subject_2_Marks  Subject_3_Marks\n",
       "count          5.00000         5.000000         5.000000\n",
       "mean          26.80000        33.800000        26.200000\n",
       "std           15.64289        12.557866        13.989282\n",
       "min           12.00000        21.000000         8.000000\n",
       "25%           14.00000        23.000000        21.000000\n",
       "50%           21.00000        32.000000        23.000000\n",
       "75%           42.00000        43.000000        34.000000\n",
       "max           45.00000        50.000000        45.000000"
      ]
     },
     "execution_count": 12,
     "metadata": {},
     "output_type": "execute_result"
    }
   ],
   "source": [
    "import pandas as pd\n",
    "# Create a dataframe\n",
    "df = pd.DataFrame({'Subject_1_Marks': [14, 42, 21, 12, 45],\n",
    "'Subject_2_Marks': [32, 43, 23, 50, 21], 'Subject_3_Marks':\n",
    "[45.0, 34.0, 23.0, 8.0, 21.0],'Names': ['Maina', 'Ayuya',\n",
    "'Njeri', 'Kiseu', 'Kikwai']})\n",
    "# Apply the describe function\n",
    "df.describe()"
   ]
  },
  {
   "cell_type": "code",
   "execution_count": null,
   "id": "365235d6",
   "metadata": {},
   "outputs": [],
   "source": []
  }
 ],
 "metadata": {
  "kernelspec": {
   "display_name": "Python 3",
   "language": "python",
   "name": "python3"
  },
  "language_info": {
   "codemirror_mode": {
    "name": "ipython",
    "version": 3
   },
   "file_extension": ".py",
   "mimetype": "text/x-python",
   "name": "python",
   "nbconvert_exporter": "python",
   "pygments_lexer": "ipython3",
   "version": "3.8.8"
  }
 },
 "nbformat": 4,
 "nbformat_minor": 5
}
