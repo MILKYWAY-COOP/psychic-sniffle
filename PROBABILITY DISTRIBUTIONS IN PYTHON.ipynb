{
 "cells": [
  {
   "cell_type": "code",
   "execution_count": 61,
   "id": "17033d7e",
   "metadata": {},
   "outputs": [
    {
     "name": "stdout",
     "output_type": "stream",
     "text": [
      "10 outcomes of a Bernoulli: [0 0 0 0 0 0 0 0 1 0]\n"
     ]
    }
   ],
   "source": [
    "#Bernoulli distribution with p=0.2\n",
    "from scipy.stats import bernoulli\n",
    "B= bernoulli(p=0.2) # cumulative distribution function\n",
    "# To simulate 10 outcomes of a Bernoulli\n",
    "print(\"10 outcomes of a Bernoulli:\",B.rvs(10))"
   ]
  },
  {
   "cell_type": "code",
   "execution_count": 62,
   "id": "3966d90e",
   "metadata": {},
   "outputs": [
    {
     "name": "stdout",
     "output_type": "stream",
     "text": [
      "P(X≤24): 0.999999999998985\n",
      "10th percentile: 2.0\n",
      "P(X=24): 7.853358460202996e-12\n",
      "20 random numbers: [7 5 5 2 8 4 5 4 6 7 5 5 8 4 6 6 6 5 4 6]\n"
     ]
    }
   ],
   "source": [
    "#Binomial distribution with p=0.1, n=50\n",
    "from scipy.stats import bernoulli\n",
    "D= binom(p=0.1,n=50) \n",
    "#To compute P(X≤24)\n",
    "print(\"P(X≤24):\",D.cdf(24))  # cumulative distribution function\n",
    "#Computing the 10th percentile\n",
    "print(\"10th percentile:\",D.ppf(0.10)) # Probability Point Function\n",
    "#  To compute P(X=24)\n",
    "print(\"P(X=24):\",D.pmf(24)) # Probability Mass Function\n",
    "# To simulate 20 random numbers.\n",
    "print(\"20 random numbers:\",D.rvs(20)) # Random Variates"
   ]
  },
  {
   "cell_type": "code",
   "execution_count": 63,
   "id": "f3323401",
   "metadata": {},
   "outputs": [
    {
     "name": "stdout",
     "output_type": "stream",
     "text": [
      "P(X≤3): 0.2650259152973616\n",
      "25th percentile: 3.0\n",
      "P(X=3): 0.1403738958142805\n",
      "12 random numbers: [ 3  9  2  4 12  6  3  1  4  7  4  3]\n"
     ]
    }
   ],
   "source": [
    "#Poisson distribution with λ=5\n",
    "from scipy.stats import poisson\n",
    "P= poisson(mu=5)\n",
    "#To compute P(X≤3)\n",
    "print(\"P(X≤3):\",P.cdf(3))  # cumulative distribution function\n",
    "#Computing the 25th percentile = the lower quartile\n",
    "print(\"25th percentile:\",P.ppf(0.25)) # Probability Point Function\n",
    "#  To compute P(X=3)\n",
    "print(\"P(X=3):\",P.pmf(3)) # Probability Mass Function\n",
    "#  To simulate 12 random numbers.\n",
    "print(\"12 random numbers:\",P.rvs(12)) # Random Variates"
   ]
  },
  {
   "cell_type": "code",
   "execution_count": 64,
   "id": "037858a4",
   "metadata": {},
   "outputs": [
    {
     "name": "stdout",
     "output_type": "stream",
     "text": [
      "P(X≤0.8): 0.9816843611112658\n",
      "50th percentile: 0.13862943611198905\n",
      "P(X=0.8): 0.0915781944436709\n",
      "42 random numbers: [0.01146721 0.2334257  0.69817068 0.0112303  0.05070792 0.04488167\n",
      " 0.20421946 0.42065029 0.07906504 0.22793853 0.18104174 0.21938428\n",
      " 0.24376817 0.07038958 0.06349533 0.00714298 0.09870159 0.02414737\n",
      " 0.01804573 0.01176679 0.13823647 0.47860357 0.12316081 0.21631065\n",
      " 0.07269651 0.12176679 0.04577853 0.00713953 0.48173212 0.09677148\n",
      " 0.18788998 0.39966955 0.11019477 0.31335023 0.23123949 0.01859749\n",
      " 0.2105207  0.3282302  0.2322386  0.3182846  0.0862973  0.05457377]\n"
     ]
    }
   ],
   "source": [
    "#Exponential distribution with µ=0.2\n",
    "from scipy.stats import expon\n",
    "E= expon(scale=0.2)\n",
    "#To compute P(X≤0.8)\n",
    "print(\"P(X≤0.8):\",E.cdf(0.8))  # cumulative distribution function\n",
    "#Computing the 50th percentile = the median\n",
    "print(\"50th percentile:\",E.ppf(0.50)) # Probability Point Function\n",
    "#  To compute P(X=0.8)\n",
    "print(\"P(X=0.8):\",E.pdf(0.8)) # Probability Density Function\n",
    "#  To simulate 42 random numbers.\n",
    "print(\"42 random numbers:\",E.rvs(42)) # Random Variates"
   ]
  },
  {
   "cell_type": "code",
   "execution_count": 65,
   "id": "189f90c6",
   "metadata": {},
   "outputs": [
    {
     "name": "stdout",
     "output_type": "stream",
     "text": [
      "P(X≤-0.5): 0.3085375387259869\n",
      "75th percentile: 0.6744897501960817\n",
      "P(X=-0.5): 0.3520653267642995\n",
      "37 random numbers: [ 0.93151371 -0.45503097  0.76294185 -0.36003665 -0.01957292  1.04155083\n",
      "  0.75298006 -0.77602202 -0.49035658 -0.39232631 -1.02561474  1.2476315\n",
      "  1.23595507 -0.45675086 -0.82836058  0.87070274  0.93274023  0.81208175\n",
      "  0.9892503  -0.51410838 -0.5320406  -0.42796419 -0.52424872 -1.35211083\n",
      "  1.76439028 -1.58616314 -0.86479304 -0.04179966  1.23352338  0.56089651\n",
      " -1.26803362  0.49216568  0.34680895 -0.9286802  -1.05166048 -0.13927545\n",
      " -0.15488388]\n"
     ]
    }
   ],
   "source": [
    "#Normal distribution\n",
    "from scipy.stats import norm\n",
    "N=norm()\n",
    "#To compute P(X≤-0.5)\n",
    "print(\"P(X≤-0.5):\",N.cdf(-0.5))  # cumulative distribution function\n",
    "#Computing the 75th percentile = the upper quartile\n",
    "print(\"75th percentile:\",N.ppf(0.75)) # Probability Point Function\n",
    "#  To compute P(X=-0.5)\n",
    "print(\"P(X=-0.5):\",N.pdf(-0.5)) # Probability Density Function\n",
    "# # To simulate 37 random numbers.\n",
    "print(\"37 random numbers:\",N.rvs(37)) # Random Variates"
   ]
  },
  {
   "cell_type": "code",
   "execution_count": 66,
   "id": "de2209d0",
   "metadata": {},
   "outputs": [
    {
     "name": "stdout",
     "output_type": "stream",
     "text": [
      "P(X≤-0.5): 0.3114082456432209\n",
      "90th percentile: 1.3277282090267986\n",
      "P(X=-0.5): 0.345483225303296\n",
      "16 random numbers: [-0.3346758   0.0238831  -0.46698494 -0.07001231  0.11642453 -0.00493841\n",
      " -0.88750358  0.72395297 -0.05494041  0.33446762 -0.28552588 -0.85108525\n",
      "  2.38048528  0.70000926  1.23545031  0.60533063]\n"
     ]
    }
   ],
   "source": [
    "#T distribution with 19 degrees of freedom\n",
    "from scipy.stats import t\n",
    "T=t(df=19)\n",
    "#To compute P(X≤-0.5)\n",
    "print(\"P(X≤-0.5):\",T.cdf(-0.5))  # cumulative distribution function\n",
    "#Computing the 90th percentile\n",
    "print(\"90th percentile:\",T.ppf(0.90)) # Probability Point Function\n",
    "#  To compute P(X=-0.5)\n",
    "print(\"P(X=-0.5):\",T.pdf(-0.5)) # Probability Density Function\n",
    "#  To simulate 16 random numbers.\n",
    "print(\"16 random numbers:\",T.rvs(16)) # Random Variates"
   ]
  },
  {
   "cell_type": "code",
   "execution_count": 67,
   "id": "d15de6c1",
   "metadata": {},
   "outputs": [
    {
     "name": "stdout",
     "output_type": "stream",
     "text": [
      "P(X≤6.4): 0.5061053500311704\n",
      "5th percentile 2.167349909298057\n",
      "P(X=6.4): 0.11233792549086317\n",
      "100 random numbers: [12.62390104  9.26333071  7.65397682 13.98622139  2.87588937  8.63568176\n",
      "  6.38517495  2.06422796 12.63613624 12.79768113  5.01288855  7.6248895\n",
      " 12.63612174  8.05812241  4.55221352  8.11293957 12.72615644 13.67162702\n",
      "  6.37930364  5.55237168 17.10826691  6.97498037  5.13743023  8.69172443\n",
      " 11.6806878   4.60033048  7.04178547  6.48234665  6.82228271  9.99522042\n",
      "  6.98807412  4.43024688  5.75149355  6.0408989   4.59413974 16.59475099\n",
      "  4.24785014  9.30402061  8.89550354  4.49089805  3.52292695  3.28744301\n",
      "  3.91408326  2.42255635  3.74646212  9.06671716  4.26095264  5.79884499\n",
      " 10.15658353  9.3024476   4.77269672  2.14053151 10.178879   11.01767207\n",
      " 24.0904804   4.69140192  3.71422844  1.37397578 11.18929802 14.45607651\n",
      " 14.21645813 10.99946937 13.46139579  5.1928456   1.51890793  4.69897494\n",
      "  5.31100503  2.91439797  3.53756784 13.59167701  6.42516078  7.14321331\n",
      " 13.12629002  4.54266276  5.13831485  3.2427539   2.64067431  5.670859\n",
      "  5.37525846  3.47238514 10.21811413  6.79887659  6.90744468  4.00503098\n",
      "  4.02346768  4.56959905  9.21542437  1.83935004  2.44767092  2.81818195\n",
      "  8.00180371 15.37486496  1.58489218  8.98142576  4.44029733 16.16874341\n",
      "  6.01133222  1.67253425  3.27811653  6.22479936]\n"
     ]
    }
   ],
   "source": [
    "#Chi - square distribution with 7 degrees of freedom\n",
    "from scipy.stats import chi2\n",
    "C=chi2(df=7)\n",
    "#To compute P(X≤6.4)\n",
    "print(\"P(X≤6.4):\",C.cdf(6.4))  # cumulative distribution function\n",
    "#Computing the 5th percentile\n",
    "print(\"5th percentile\",C.ppf(0.05)) # Probability Point Function\n",
    "#  To compute P(X=6.4)\n",
    "print(\"P(X=6.4):\",C.pdf(6.4)) # Probability Density Function\n",
    "#  To simulate 100 random numbers.\n",
    "print(\"100 random numbers:\",C.rvs(100))"
   ]
  },
  {
   "cell_type": "code",
   "execution_count": 68,
   "id": "2e2f593c",
   "metadata": {},
   "outputs": [
    {
     "name": "stdout",
     "output_type": "stream",
     "text": [
      "P(X≤2.3) 0.8622965191923855\n",
      "95th percentile 3.6330885114190794\n",
      "P(X=2.3) 0.11562461309791996\n",
      "46 random numbers: [1.23951269 2.63309649 0.53530574 0.7599184  2.58262307 2.70215876\n",
      " 5.55781839 0.74576873 0.14349892 0.08489145 0.59333356 1.41379203\n",
      " 0.41561821 0.33301046 2.85473367 0.29591152 0.78346169 1.07024893\n",
      " 0.38971098 0.46840452 0.72964628 0.53896797 1.09481477 3.46422057\n",
      " 1.43493959 0.34846078 5.58736898 4.02285339 0.21186199 0.27647662\n",
      " 1.15527946 0.53653952 1.17860448 1.72227975 0.7447371  2.00894768\n",
      " 1.04784481 0.29781054 0.12665596 1.44796305 0.15549093 3.78670195\n",
      " 0.07264397 0.19433862 0.47055393 0.78229461]\n"
     ]
    }
   ],
   "source": [
    "#F distribution with 4 numerator degrees of freedom and 9\n",
    "#denominator degrees of freedom\n",
    "from scipy.stats import f \n",
    "F=f(dfn=4,dfd=9)\n",
    "#To compute P(X≤2.3)\n",
    "print(\"P(X≤2.3)\",F.cdf(2.3)) # cumulative distribution function\n",
    "#Computing the 95th percentile\n",
    "print(\"95th percentile\",F.ppf(0.95)) # Probability Point Function\n",
    "#  To compute P(X=2.3)\n",
    "print(\"P(X=2.3)\",F.pdf(2.3)) # Probability Density Function\n",
    "# To simulate 46 random numbers.\n",
    "print(\"46 random numbers:\",F.rvs(46))"
   ]
  },
  {
   "cell_type": "code",
   "execution_count": null,
   "id": "0037f30e",
   "metadata": {},
   "outputs": [],
   "source": []
  },
  {
   "cell_type": "code",
   "execution_count": null,
   "id": "26b664fa",
   "metadata": {},
   "outputs": [],
   "source": []
  },
  {
   "cell_type": "code",
   "execution_count": null,
   "id": "2deac9fb",
   "metadata": {},
   "outputs": [],
   "source": []
  }
 ],
 "metadata": {
  "kernelspec": {
   "display_name": "Python 3",
   "language": "python",
   "name": "python3"
  },
  "language_info": {
   "codemirror_mode": {
    "name": "ipython",
    "version": 3
   },
   "file_extension": ".py",
   "mimetype": "text/x-python",
   "name": "python",
   "nbconvert_exporter": "python",
   "pygments_lexer": "ipython3",
   "version": "3.8.8"
  }
 },
 "nbformat": 4,
 "nbformat_minor": 5
}
