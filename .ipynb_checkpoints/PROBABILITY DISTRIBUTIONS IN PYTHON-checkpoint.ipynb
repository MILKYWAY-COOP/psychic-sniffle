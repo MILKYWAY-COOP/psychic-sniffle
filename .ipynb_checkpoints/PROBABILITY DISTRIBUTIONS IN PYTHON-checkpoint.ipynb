{
 "cells": [
  {
   "cell_type": "code",
   "execution_count": 16,
   "id": "17033d7e",
   "metadata": {},
   "outputs": [],
   "source": [
    "#Bernoulli distribution with p=0.2\n",
    "from scipy.stats import bernoulli\n",
    "B= bernoulli(p=0.2) # cumulative distribution function"
   ]
  },
  {
   "cell_type": "code",
   "execution_count": 24,
   "id": "3966d90e",
   "metadata": {},
   "outputs": [
    {
     "data": {
      "text/plain": [
       "2.0"
      ]
     },
     "execution_count": 24,
     "metadata": {},
     "output_type": "execute_result"
    }
   ],
   "source": [
    "#Binomial distribution with p=0.1, n=50\n",
    "from scipy.stats import bernoulli\n",
    "D= binom(p=0.1,n=50) \n",
    "#Binomial distribution. To compute P(X≤24)\n",
    "print(D.cdf(24))  # cumulative distribution function\n",
    "#Binomial distribution. Computing the 10th percentile\n",
    "print(D.ppf(0.10))"
   ]
  },
  {
   "cell_type": "code",
   "execution_count": 18,
   "id": "f3323401",
   "metadata": {},
   "outputs": [
    {
     "data": {
      "text/plain": [
       "0.2650259152973616"
      ]
     },
     "execution_count": 18,
     "metadata": {},
     "output_type": "execute_result"
    }
   ],
   "source": [
    "#Poisson distribution with λ=5\n",
    "from scipy.stats import poisson\n",
    "P= poisson(mu=5)\n",
    "#Poisson distribution. To compute P(X≤3)\n",
    "P.cdf(3)  # cumulative distribution function\n"
   ]
  },
  {
   "cell_type": "code",
   "execution_count": 19,
   "id": "037858a4",
   "metadata": {},
   "outputs": [
    {
     "data": {
      "text/plain": [
       "0.9816843611112658"
      ]
     },
     "execution_count": 19,
     "metadata": {},
     "output_type": "execute_result"
    }
   ],
   "source": [
    "#Exponential distribution with µ=0.2\n",
    "from scipy.stats import expon\n",
    "E= expon(scale=0.2)\n",
    "#Exponential distribution. To compute P(X≤0.8)\n",
    "E.cdf(0.8)  # cumulative distribution function\n"
   ]
  },
  {
   "cell_type": "code",
   "execution_count": 20,
   "id": "189f90c6",
   "metadata": {},
   "outputs": [
    {
     "data": {
      "text/plain": [
       "0.3085375387259869"
      ]
     },
     "execution_count": 20,
     "metadata": {},
     "output_type": "execute_result"
    }
   ],
   "source": [
    "#Normal distribution\n",
    "from scipy.stats import norm\n",
    "N=norm()\n",
    "#Normal distribution. To compute P(X≤-0.5)\n",
    "N.cdf(-0.5)  # cumulative distribution function\n"
   ]
  },
  {
   "cell_type": "code",
   "execution_count": 21,
   "id": "de2209d0",
   "metadata": {},
   "outputs": [
    {
     "data": {
      "text/plain": [
       "0.3114082456432209"
      ]
     },
     "execution_count": 21,
     "metadata": {},
     "output_type": "execute_result"
    }
   ],
   "source": [
    "#T distribution with 19 degrees of freedom\n",
    "from scipy.stats import t\n",
    "T=t(df=19)\n",
    "#T distribution. To compute P(X≤-0.5)\n",
    "T.cdf(-0.5)  # cumulative distribution function\n"
   ]
  },
  {
   "cell_type": "code",
   "execution_count": 22,
   "id": "d15de6c1",
   "metadata": {},
   "outputs": [
    {
     "data": {
      "text/plain": [
       "0.5061053500311704"
      ]
     },
     "execution_count": 22,
     "metadata": {},
     "output_type": "execute_result"
    }
   ],
   "source": [
    "#Chi - square distribution with 7 degrees of freedom\n",
    "from scipy.stats import chi2\n",
    "C=chi2(df=7)\n",
    "#Chi - square distribution. To compute P(X≤6.4)\n",
    "C.cdf(6.4)  # cumulative distribution function\n"
   ]
  },
  {
   "cell_type": "code",
   "execution_count": 23,
   "id": "2e2f593c",
   "metadata": {},
   "outputs": [
    {
     "data": {
      "text/plain": [
       "0.8622965191923855"
      ]
     },
     "execution_count": 23,
     "metadata": {},
     "output_type": "execute_result"
    }
   ],
   "source": [
    "#F distribution with 4 numerator degrees of freedom and 9\n",
    "#denominator degrees of freedom\n",
    "from scipy.stats import f \n",
    "F=f(dfn=4,dfd=9)\n",
    "#F distribution. To compute P(X≤2.3)\n",
    "F.cdf(2.3) # cumulative distribution function"
   ]
  },
  {
   "cell_type": "code",
   "execution_count": null,
   "id": "0037f30e",
   "metadata": {},
   "outputs": [],
   "source": []
  }
 ],
 "metadata": {
  "kernelspec": {
   "display_name": "Python 3",
   "language": "python",
   "name": "python3"
  },
  "language_info": {
   "codemirror_mode": {
    "name": "ipython",
    "version": 3
   },
   "file_extension": ".py",
   "mimetype": "text/x-python",
   "name": "python",
   "nbconvert_exporter": "python",
   "pygments_lexer": "ipython3",
   "version": "3.8.8"
  }
 },
 "nbformat": 4,
 "nbformat_minor": 5
}
