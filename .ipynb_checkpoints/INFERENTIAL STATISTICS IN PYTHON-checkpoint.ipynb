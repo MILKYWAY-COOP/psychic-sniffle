{
 "cells": [
  {
   "cell_type": "code",
   "execution_count": 3,
   "id": "552df3af",
   "metadata": {},
   "outputs": [],
   "source": [
    "# Inference on Proportions"
   ]
  },
  {
   "cell_type": "code",
   "execution_count": 2,
   "id": "b652d6fd",
   "metadata": {},
   "outputs": [
    {
     "data": {
      "text/plain": [
       "(-0.8164965809277268, 0.41421617824252466)"
      ]
     },
     "execution_count": 2,
     "metadata": {},
     "output_type": "execute_result"
    }
   ],
   "source": [
    "# The One Sample Proportion Test\n",
    "#import proportions_ztest function\n",
    "from statsmodels.stats.proportion import proportions_ztest\n",
    "#perform one proportion z-test\n",
    "proportions_ztest(count=60, nobs=100, value=0.64)\n",
    "(-0.8164965809277268, 0.41421617824252466)"
   ]
  },
  {
   "cell_type": "code",
   "execution_count": 17,
   "id": "b3b6036c",
   "metadata": {
    "scrolled": true
   },
   "outputs": [
    {
     "ename": "ImportError",
     "evalue": "cannot import name 'binomtest' from 'scipy.stats' (C:\\ProgramData\\Anaconda3\\lib\\site-packages\\scipy\\stats\\__init__.py)",
     "output_type": "error",
     "traceback": [
      "\u001b[1;31m---------------------------------------------------------------------------\u001b[0m",
      "\u001b[1;31mImportError\u001b[0m                               Traceback (most recent call last)",
      "\u001b[1;32m<ipython-input-17-4aa8023ceec1>\u001b[0m in \u001b[0;36m<module>\u001b[1;34m\u001b[0m\n\u001b[0;32m      1\u001b[0m \u001b[1;31m# The Binomial Test\u001b[0m\u001b[1;33m\u001b[0m\u001b[1;33m\u001b[0m\u001b[1;33m\u001b[0m\u001b[0m\n\u001b[0;32m      2\u001b[0m \u001b[1;32mimport\u001b[0m \u001b[0mscipy\u001b[0m\u001b[1;33m\u001b[0m\u001b[1;33m\u001b[0m\u001b[0m\n\u001b[1;32m----> 3\u001b[1;33m \u001b[1;32mfrom\u001b[0m \u001b[0mscipy\u001b[0m\u001b[1;33m.\u001b[0m\u001b[0mstats\u001b[0m \u001b[1;32mimport\u001b[0m \u001b[0mbinomtest\u001b[0m\u001b[1;33m\u001b[0m\u001b[1;33m\u001b[0m\u001b[0m\n\u001b[0m\u001b[0;32m      4\u001b[0m \u001b[0mbinomtest\u001b[0m\u001b[1;33m(\u001b[0m\u001b[0mk\u001b[0m\u001b[1;33m=\u001b[0m\u001b[1;36m6\u001b[0m\u001b[1;33m,\u001b[0m \u001b[0mn\u001b[0m\u001b[1;33m=\u001b[0m\u001b[1;36m24\u001b[0m\u001b[1;33m,\u001b[0m \u001b[0mp\u001b[0m\u001b[1;33m=\u001b[0m\u001b[1;36m1\u001b[0m\u001b[1;33m/\u001b[0m\u001b[1;36m6\u001b[0m\u001b[1;33m,\u001b[0m \u001b[0malternative\u001b[0m\u001b[1;33m=\u001b[0m\u001b[1;34m'greater'\u001b[0m\u001b[1;33m)\u001b[0m\u001b[1;33m\u001b[0m\u001b[1;33m\u001b[0m\u001b[0m\n",
      "\u001b[1;31mImportError\u001b[0m: cannot import name 'binomtest' from 'scipy.stats' (C:\\ProgramData\\Anaconda3\\lib\\site-packages\\scipy\\stats\\__init__.py)"
     ]
    }
   ],
   "source": [
    "# The Binomial Test\n",
    "from scipy.stats import binomtest\n",
    "binomtest(k=6, n=24, p=1/6, alternative='greater')"
   ]
  },
  {
   "cell_type": "code",
   "execution_count": 19,
   "id": "8ee6fc34",
   "metadata": {},
   "outputs": [
    {
     "name": "stdout",
     "output_type": "stream",
     "text": [
      "1.6.2\n"
     ]
    }
   ],
   "source": [
    "import scipy\n",
    "print(scipy.__version__)"
   ]
  },
  {
   "cell_type": "code",
   "execution_count": 21,
   "id": "86e86cc5",
   "metadata": {},
   "outputs": [
    {
     "name": "stdout",
     "output_type": "stream",
     "text": [
      "0.0000\n"
     ]
    }
   ],
   "source": [
    "# The Two Sample Proportion Test\n",
    "import numpy as np\n",
    "from statsmodels.stats.proportion import proportions_ztest\n",
    "count = np.array([110, 33])\n",
    "nobs = np.array([201229, 200745])\n",
    "stat, pval = proportions_ztest(count, nobs)\n",
    "print('{0:0.4f}'.format(pval))"
   ]
  },
  {
   "cell_type": "code",
   "execution_count": 22,
   "id": "ebc4b479",
   "metadata": {},
   "outputs": [],
   "source": [
    "#Inference on Means"
   ]
  },
  {
   "cell_type": "code",
   "execution_count": 24,
   "id": "4b2c2c34",
   "metadata": {},
   "outputs": [
    {
     "data": {
      "text/plain": [
       "Ttest_1sampResult(statistic=-0.6820482925847234, pvalue=0.5081597296128026)"
      ]
     },
     "execution_count": 24,
     "metadata": {},
     "output_type": "execute_result"
    }
   ],
   "source": [
    "#The One Sample 𝒕 Test\n",
    "import scipy.stats as stats\n",
    "#define data\n",
    "data = [136,143,145,141,143,140,136,140,138,138,138,137,138]\n",
    "#perform one sample t-test\n",
    "stats.ttest_1samp(a=data, popmean=140)"
   ]
  },
  {
   "cell_type": "code",
   "execution_count": 25,
   "id": "0fd594d0",
   "metadata": {},
   "outputs": [
    {
     "data": {
      "text/plain": [
       "Ttest_indResult(statistic=-2.106933072296379, pvalue=0.045761094536692436)"
      ]
     },
     "execution_count": 25,
     "metadata": {},
     "output_type": "execute_result"
    }
   ],
   "source": [
    "#The Two Sample 𝒕 Test\n",
    "import scipy.stats as stats\n",
    "#Define array of turtle weights for each sample\n",
    "sample1 = [136,143,145,141,143,140,136,140,138,138,138,137,135]\n",
    "sample2 = [152,149,146,146,147,145,138,140,138,141,139,136,138]\n",
    "#Perform the two sample t-test\n",
    "stats.ttest_ind(a=sample1, b=sample2)"
   ]
  },
  {
   "cell_type": "code",
   "execution_count": 26,
   "id": "f1fc5db2",
   "metadata": {},
   "outputs": [
    {
     "data": {
      "text/plain": [
       "Ttest_relResult(statistic=-2.5289026942943655, pvalue=0.02802807458682508)"
      ]
     },
     "execution_count": 26,
     "metadata": {},
     "output_type": "execute_result"
    }
   ],
   "source": [
    "#The Paired Samples 𝒕 Test\n",
    "import scipy.stats as stats\n",
    "#Define before and after max jump heights\n",
    "before = [22, 24, 20, 19, 19, 20, 22, 25, 24, 23, 22, 21]\n",
    "after = [23, 25, 20, 24, 18, 22, 23, 28, 24, 25, 24, 20]\n",
    "#Perform the paired samples t-test\n",
    "stats.ttest_rel(a=before, b=after)"
   ]
  },
  {
   "cell_type": "code",
   "execution_count": 27,
   "id": "27280b4c",
   "metadata": {},
   "outputs": [],
   "source": [
    "#Analysis of Variance"
   ]
  },
  {
   "cell_type": "code",
   "execution_count": 29,
   "id": "31a2c367",
   "metadata": {},
   "outputs": [
    {
     "data": {
      "text/plain": [
       "F_onewayResult(statistic=2.3575322551335636, pvalue=0.11384795345837218)"
      ]
     },
     "execution_count": 29,
     "metadata": {},
     "output_type": "execute_result"
    }
   ],
   "source": [
    "#One Way ANOVA\n",
    "from scipy.stats import f_oneway\n",
    "#Enter exam scores for each group\n",
    "group1 = [85, 86, 88, 75, 78, 94, 98, 79, 71, 80]\n",
    "group2 = [91, 92, 93, 85, 87, 84, 82, 88, 95, 96]\n",
    "group3 = [79, 78, 88, 94, 92, 85, 83, 85, 82, 81]\n",
    "#perform one-way ANOVA\n",
    "f_oneway(group1, group2, group3)"
   ]
  },
  {
   "cell_type": "code",
   "execution_count": null,
   "id": "98791f01",
   "metadata": {},
   "outputs": [],
   "source": [
    "#Two Way ANOVA\n",
    "import numpy as np\n",
    "import pandas as pd\n",
    "#Create data\n",
    "df = pd.DataFrame({'water': np.repeat(['daily', 'weekly'], 15),\n",
    "'sun': np.tile(np.repeat(['low', 'med', 'high'], 5), 2),\n",
    "'height': [6, 6, 6, 5, 6, 5, 5, 6, 4, 5,6, 6, 7, 8, 7, 3, 4, 4,\n",
    "4, 5,4, 4, 4, 4, 4, 5, 6, 6, 7, 8]})\n",
    "#View first ten rows of data\n",
    "df[:10]\n",
    "import statsmodels.api as sm\n",
    "from statsmodels.formula.api import ols\n",
    "#perform two-way ANOVA\n",
    "model = ols('height ~ C(water) + C(sun) + C(water):C(sun)',\n",
    "data=df).fit()\n",
    "sm.stats.anova_lm(model, typ=2)"
   ]
  }
 ],
 "metadata": {
  "kernelspec": {
   "display_name": "Python 3",
   "language": "python",
   "name": "python3"
  },
  "language_info": {
   "codemirror_mode": {
    "name": "ipython",
    "version": 3
   },
   "file_extension": ".py",
   "mimetype": "text/x-python",
   "name": "python",
   "nbconvert_exporter": "python",
   "pygments_lexer": "ipython3",
   "version": "3.8.8"
  }
 },
 "nbformat": 4,
 "nbformat_minor": 5
}
