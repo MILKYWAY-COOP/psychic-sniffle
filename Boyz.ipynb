{
 "cells": [
  {
   "cell_type": "code",
   "execution_count": 3,
   "id": "fdabab32",
   "metadata": {},
   "outputs": [
    {
     "name": "stdout",
     "output_type": "stream",
     "text": [
      "Index(['Personel Number', 'Sex', 'Age', 'Marital Status', 'Education Level',\n",
      "       'Department', 'Number of Assistants', 'Experience', 'Marketing Budget',\n",
      "       'Appraisal Score', 'Quarter 1', 'Quarter 2', 'Quarter 3', 'Quarter 4'],\n",
      "      dtype='object')\n"
     ]
    },
    {
     "data": {
      "image/png": "[encoded data removed]",
      "text/plain": [
       "<Figure size 432x288 with 1 Axes>"
      ]
     },
     "metadata": {
      "needs_background": "light"
     },
     "output_type": "display_data"
    }
   ],
   "source": [
    "import pandas as pd \n",
    "import matplotlib.pyplot as plt\n",
    "data = pd.read_excel('data.xlsx')\n",
    "\n",
    "print(data.columns)\n",
    "\n",
    "# A bar chart of Sex\n",
    "sex = data['Sex'].value_counts()\n",
    "sex.plot(kind='bar')\n",
    "plt.title('Bar chart of Sex')\n",
    "plt.xlabel('Sex')\n",
    "plt.ylabel('Count')\n",
    "plt.show()"
   ]
  },
  {
   "cell_type": "code",
   "execution_count": 5,
   "id": "b4baa70c",
   "metadata": {},
   "outputs": [
    {
     "data": {
      "image/png": "[encoded data removed]",
      "text/plain": [
       "<Figure size 432x288 with 1 Axes>"
      ]
     },
     "metadata": {
      "needs_background": "light"
     },
     "output_type": "display_data"
    }
   ],
   "source": [
    "import pandas as pd\n",
    "import matplotlib.pyplot as plt\n",
    "data = pd.read_excel('data.xlsx')\n",
    "\n",
    "# A histogram of Age\n",
    "age = data['Age']\n",
    "age.plot(kind='hist')\n",
    "plt.title('Histogram of Age')\n",
    "plt.xlabel('Age')\n",
    "plt.show()"
   ]
  },
  {
   "cell_type": "code",
   "execution_count": 9,
   "id": "b4bebdb0",
   "metadata": {},
   "outputs": [
    {
     "name": "stdout",
     "output_type": "stream",
     "text": [
      "              Age  Number of Assistants  Experience  Marketing Budget  \\\n",
      "count  153.000000            153.000000  153.000000        153.000000   \n",
      "mean    40.150327             12.385621   10.751634          1.426340   \n",
      "std     10.792768              7.277511    5.957394          0.889184   \n",
      "min     19.000000              2.000000    1.000000          0.170000   \n",
      "25%     34.000000              6.000000    6.000000          0.640000   \n",
      "50%     39.000000             12.000000   10.000000          1.290000   \n",
      "75%     47.000000             18.000000   15.000000          2.000000   \n",
      "max     67.000000             31.000000   25.000000          4.600000   \n",
      "\n",
      "       Appraisal Score   Quarter 1   Quarter 2   Quarter 3   Quarter 4  \n",
      "count       153.000000  153.000000  153.000000  153.000000  153.000000  \n",
      "mean         80.636601   18.563595   19.643856   21.874967   22.117059  \n",
      "std           8.355181    4.677800    4.807961    4.916638    5.292673  \n",
      "min          66.200000    8.570000    9.140000   10.950000   11.320000  \n",
      "25%          73.400000   15.000000   16.140000   18.770000   18.100000  \n",
      "50%          81.100000   18.800000   19.940000   21.900000   21.730000  \n",
      "75%          87.800000   21.780000   22.950000   24.950000   25.530000  \n",
      "max          94.200000   30.070000   31.310000   32.530000   35.910000  \n"
     ]
    }
   ],
   "source": [
    "#importing the data\n",
    "data = pd.read_excel('data.xlsx')\n",
    "\n",
    "#printing summary statistics for the numerical columns in our data\n",
    "summary_stats = data.describe()\n",
    "print(summary_stats)"
   ]
  },
  {
   "cell_type": "code",
   "execution_count": 14,
   "id": "49378303",
   "metadata": {},
   "outputs": [
    {
     "name": "stdout",
     "output_type": "stream",
     "text": [
      "Chi-square statistic: 3.3384798815063323\n",
      "P-value: 0.9926458209580624\n",
      "Degrees of freedom: 12\n"
     ]
    }
   ],
   "source": [
    "from scipy.stats import chi2_contingency\n",
    "import pandas as pd\n",
    "\n",
    "# load the data\n",
    "data = pd.read_excel('data.xlsx')\n",
    "\n",
    "# create the contingency table\n",
    "contingency_table = pd.crosstab(data['Department'], data['Sex'], margins=True)\n",
    "\n",
    "# perform the chi-square test\n",
    "chi2, p, dof, expected = chi2_contingency(contingency_table)\n",
    "\n",
    "# display the results\n",
    "print('Chi-square statistic:', chi2)\n",
    "print('P-value:', p)\n",
    "print('Degrees of freedom:', dof)"
   ]
  },
  {
   "cell_type": "code",
   "execution_count": 19,
   "id": "21c5f9d4",
   "metadata": {},
   "outputs": [
    {
     "name": "stdout",
     "output_type": "stream",
     "text": [
      "Education Level  Bachelors  Certificate  Diploma  Post graduate\n",
      "Marital Status                                                 \n",
      "Divorced                 7            6       11              8\n",
      "Married                 10           23       13             22\n",
      "Single                  13            6        7              4\n",
      "Widowed                  9            2        6              6\n",
      "Chi-square statistic: 19.236160625508447\n",
      "P-value: 0.023258092987928462\n",
      "Degrees of freedom: 9\n",
      "Expected frequencies:\n",
      " [[ 8.15686275  7.73856209  7.73856209  8.36601307]\n",
      " [17.33333333 16.44444444 16.44444444 17.77777778]\n",
      " [ 7.64705882  7.25490196  7.25490196  7.84313725]\n",
      " [ 5.8627451   5.5620915   5.5620915   6.0130719 ]]\n"
     ]
    }
   ],
   "source": [
    "#Testing significance in relationship between marital status and education level\n",
    "from scipy.stats import chi2_contingency\n",
    "import pandas as pd\n",
    "\n",
    "# load the data\n",
    "data = pd.read_excel('data.xlsx')\n",
    "\n",
    "# create the contingency table\n",
    "contingency_table = pd.crosstab(data['Marital Status'], data['Education Level'])\n",
    "\n",
    "print(contingency_table)\n",
    "\n",
    "# perform the chi-square test\n",
    "chi2, p, dof, expected = chi2_contingency(contingency_table)\n",
    "\n",
    "# display the results\n",
    "print('Chi-square statistic:', chi2)\n",
    "print('P-value:', p)\n",
    "print('Degrees of freedom:', dof)\n",
    "print('Expected frequencies:\\n', expected)"
   ]
  },
  {
   "cell_type": "code",
   "execution_count": 24,
   "id": "63212f53",
   "metadata": {},
   "outputs": [
    {
     "name": "stdout",
     "output_type": "stream",
     "text": [
      "Department       Agriculture  Energy  Financial services  Manufacturing  \\\n",
      "Education Level                                                           \n",
      "Bachelors                  6       6                   1              6   \n",
      "Certificate               11       2                   8              6   \n",
      "Diploma                    8       4                   6              4   \n",
      "Post graduate              8       3                  12              5   \n",
      "\n",
      "Department       Mining  Tourism  \n",
      "Education Level                   \n",
      "Bachelors             7       13  \n",
      "Certificate           4        6  \n",
      "Diploma               9        6  \n",
      "Post graduate         7        5  \n",
      "Fishers statistic: 22.387556486751492\n",
      "P-value: 0.09803731044292098\n",
      "Degrees of freedom: 15\n",
      "Expected frequencies:\n",
      " [[8.41176471 3.82352941 6.88235294 5.35294118 6.88235294 7.64705882]\n",
      " [7.98039216 3.62745098 6.52941176 5.07843137 6.52941176 7.25490196]\n",
      " [7.98039216 3.62745098 6.52941176 5.07843137 6.52941176 7.25490196]\n",
      " [8.62745098 3.92156863 7.05882353 5.49019608 7.05882353 7.84313725]]\n"
     ]
    }
   ],
   "source": [
    "# Testing significance in relationship between education level and department\n",
    "# Fisher's exact test\n",
    "import pandas as pd\n",
    "from scipy.stats import contingency\n",
    "\n",
    "# load the data\n",
    "data = pd.read_excel('data.xlsx')\n",
    "\n",
    "# create a contingency table\n",
    "contingency_table = pd.crosstab(data['Education Level'], data['Department'])\n",
    "\n",
    "print(contingency_table)\n",
    "\n",
    "# perform the Fisher's exact test\n",
    "g, p, dof, expected = contingency.chi2_contingency(contingency_table, lambda_=\"log-likelihood\")\n",
    "\n",
    "# print the results\n",
    "print('Fishers statistic:', g)\n",
    "print('P-value:', p)\n",
    "print('Degrees of freedom:', dof)\n",
    "print('Expected frequencies:\\n', expected)"
   ]
  },
  {
   "cell_type": "code",
   "execution_count": 24,
   "id": "1f1a03cf",
   "metadata": {},
   "outputs": [
    {
     "name": "stdout",
     "output_type": "stream",
     "text": [
      "The p_value,  0.14533074190120873 ,is greater than 0.05. We therefore conclude there is no significant difference in sales for the first quarter.\n",
      "The p_value,  0.6042517511420767 ,is greater than 0.05. We therefore conclude there is no significant difference in sales for the second quarter.\n",
      "The p_value,  0.002498933732830875 , is less than 0.05. We therefore conclude there is a significant difference in sales for the third quarter.\n",
      "The p_value,  0.3481018139917928 ,is greater than 0.05. We therefore conclude there is no significant difference in sales for the fourth quarter.\n"
     ]
    }
   ],
   "source": [
    "from scipy.stats import f_oneway\n",
    "import pandas as pd\n",
    "\n",
    "#load the data\n",
    "data = pd.read_excel('data.xlsx')\n",
    "\n",
    "data['Age Category'] = pd.cut(data['Age'], bins=[0, 35, float('inf')], labels=['Young', 'Old'])\n",
    "grouped_data = data.groupby(['Sex', 'Age Category', 'Marital Status', 'Education Level', 'Department']).agg({'Quarter 1': 'mean', 'Quarter 2': 'mean', 'Quarter 3': 'mean', 'Quarter 4': 'mean', 'Marketing Budget': 'sum'})\n",
    "\n",
    "q1_groups = [data[data['Quarter 1'] == i]['Marketing Budget']\n",
    "             for i in data['Quarter 1'].unique()]\n",
    "\n",
    "f_stat, p_value = f_oneway(*q1_groups)\n",
    "if p_value < 0.05:\n",
    "    print('The p_value, ', p_value,', is less than 0.05. We therefore conclude there is a significant difference in sales for the first quarter.')\n",
    "else:\n",
    "    print('The p_value, ', p_value,',is greater than 0.05. We therefore conclude there is no significant difference in sales for the first quarter.')\n",
    "\n",
    "q2_groups = [data[data['Quarter 2'] == i]['Marketing Budget']\n",
    "                for i in data['Quarter 2'].unique()]\n",
    "\n",
    "f_stat, p_value = f_oneway(*q2_groups)\n",
    "if p_value < 0.05:\n",
    "    print('The p_value, ', p_value,', is less than 0.05. We therefore conclude there is a significant difference in sales for the second quarter.')\n",
    "else:\n",
    "    print('The p_value, ', p_value,',is greater than 0.05. We therefore conclude there is no significant difference in sales for the second quarter.')\n",
    "\n",
    "q3_groups = [data[data['Quarter 3'] == i]['Marketing Budget']\n",
    "                for i in data['Quarter 3'].unique()]\n",
    "\n",
    "f_stat, p_value = f_oneway(*q3_groups)\n",
    "if p_value < 0.05:\n",
    "    print('The p_value, ', p_value,', is less than 0.05. We therefore conclude there is a significant difference in sales for the third quarter.')\n",
    "else:\n",
    "    print('The p_value, ', p_value,',is greater than 0.05. We therefore conclude there is no significant difference in sales for the third quarter.')\n",
    "\n",
    "q4_groups = [data[data['Quarter 4'] == i]['Marketing Budget']\n",
    "                for i in data['Quarter 4'].unique()]\n",
    "\n",
    "f_stat, p_value = f_oneway(*q4_groups)\n",
    "if p_value < 0.05:\n",
    "    print('The p_value, ', p_value,', is less than 0.05. We therefore conclude there is a significant difference in sales for the fourth quarter.')\n",
    "else:\n",
    "    print('The p_value, ', p_value,',is greater than 0.05. We therefore conclude there is no significant difference in sales for the fourth quarter.')\n"
   ]
  },
  {
   "cell_type": "code",
   "execution_count": 26,
   "id": "a2b615f9",
   "metadata": {},
   "outputs": [
    {
     "name": "stdout",
     "output_type": "stream",
     "text": [
      "The p_value, 0.4304069699122757 , is greater than 0.05. We therefore conclude there is no significant difference in sales for the first quarter.\n",
      "The p_value, 0.5159566526492723 , is greater than 0.05. We therefore conclude there is no significant difference in sales for the second quarter.\n",
      "The p_value, 0.34161987057427795 , is greater than 0.05. We therefore conclude there is no significant difference in sales for the third quarter.\n",
      "The p_value, 0.41822880735387274 , is greater than 0.05. We therefore conclude there is no significant difference in sales for the fourth quarter.\n"
     ]
    }
   ],
   "source": [
    "from scipy.stats import kruskal\n",
    "import pandas as pd\n",
    "\n",
    "#load the data\n",
    "data = pd.read_excel('data.xlsx')\n",
    "\n",
    "data['Age Category'] = pd.cut(data['Age'], bins=[0, 35, float('inf')], labels=['Young', 'Old'])\n",
    "grouped_data = data.groupby(['Sex', 'Age Category', 'Marital Status', 'Education Level', 'Department']).agg({'Quarter 1': 'mean', 'Quarter 2': 'mean', 'Quarter 3': 'mean', 'Quarter 4': 'mean', 'Marketing Budget': 'sum'})\n",
    "\n",
    "q1_groups = [data[data['Quarter 1'] == i]['Marketing Budget']\n",
    "             for i in data['Quarter 1'].unique()]\n",
    "\n",
    "H_stat, p_value = kruskal(*q1_groups)\n",
    "if p_value < 0.05:\n",
    "    print('The p_value,', p_value,', is less than 0.05. We therefore conclude there is a significant difference in sales for the first quarter.')\n",
    "else:\n",
    "    print('The p_value,', p_value,', is greater than 0.05. We therefore conclude there is no significant difference in sales for the first quarter.')\n",
    "\n",
    "q2_groups = [data[data['Quarter 2'] == i]['Marketing Budget']\n",
    "                for i in data['Quarter 2'].unique()]\n",
    "\n",
    "H_stat, p_value = kruskal(*q2_groups)\n",
    "if p_value < 0.05:\n",
    "    print('The p_value,', p_value,', is less than 0.05. We therefore conclude there is a significant difference in sales for the second quarter.')\n",
    "else:\n",
    "    print('The p_value,', p_value,', is greater than 0.05. We therefore conclude there is no significant difference in sales for the second quarter.')\n",
    "\n",
    "q3_groups = [data[data['Quarter 3'] == i]['Marketing Budget']\n",
    "                for i in data['Quarter 3'].unique()]\n",
    "        \n",
    "H_stat, p_value = kruskal(*q3_groups)\n",
    "if p_value < 0.05:\n",
    "    print('The p_value,', p_value,', is less than 0.05. We therefore conclude there is a significant difference in sales for the third quarter.')\n",
    "else:\n",
    "    print('The p_value,', p_value,', is greater than 0.05. We therefore conclude there is no significant difference in sales for the third quarter.')\n",
    "\n",
    "q4_groups = [data[data['Quarter 4'] == i]['Marketing Budget']\n",
    "                for i in data['Quarter 4'].unique()]\n",
    "    \n",
    "H_stat, p_value = kruskal(*q4_groups)\n",
    "if p_value < 0.05:\n",
    "    print('The p_value,', p_value,', is less than 0.05. We therefore conclude there is a significant difference in sales for the fourth quarter.')\n",
    "else:\n",
    "    print('The p_value,', p_value,', is greater than 0.05. We therefore conclude there is no significant difference in sales for the fourth quarter.')"
   ]
  },
  {
   "cell_type": "code",
   "execution_count": 33,
   "id": "e79e65f8",
   "metadata": {},
   "outputs": [
    {
     "name": "stdout",
     "output_type": "stream",
     "text": [
      "                            OLS Regression Results                            \n",
      "==============================================================================\n",
      "Dep. Variable:                      y   R-squared:                       0.441\n",
      "Model:                            OLS   Adj. R-squared:                  0.422\n",
      "Method:                 Least Squares   F-statistic:                     23.15\n",
      "Date:                Mon, 27 Mar 2023   Prob (F-statistic):           4.19e-17\n",
      "Time:                        11:32:06   Log-Likelihood:                -598.13\n",
      "No. Observations:                 153   AIC:                             1208.\n",
      "Df Residuals:                     147   BIC:                             1226.\n",
      "Df Model:                           5                                         \n",
      "Covariance Type:            nonrobust                                         \n",
      "========================================================================================\n",
      "                           coef    std err          t      P>|t|      [0.025      0.975]\n",
      "----------------------------------------------------------------------------------------\n",
      "const                   26.2620     10.908      2.408      0.017       4.706      47.818\n",
      "Age                      0.0893      0.191      0.468      0.640      -0.288       0.466\n",
      "Number of Assistants     0.5140      0.538      0.956      0.341      -0.549       1.577\n",
      "Experience               1.2429      0.504      2.467      0.015       0.247       2.239\n",
      "Marketing Budget        -1.3033      3.882     -0.336      0.738      -8.975       6.368\n",
      "Appraisal Score          0.4276      0.122      3.517      0.001       0.187       0.668\n",
      "==============================================================================\n",
      "Omnibus:                       12.494   Durbin-Watson:                   1.677\n",
      "Prob(Omnibus):                  0.002   Jarque-Bera (JB):               13.093\n",
      "Skew:                          -0.656   Prob(JB):                      0.00143\n",
      "Kurtosis:                       3.577   Cond. No.                     1.01e+03\n",
      "==============================================================================\n",
      "\n",
      "Notes:\n",
      "[1] Standard Errors assume that the covariance matrix of the errors is correctly specified.\n",
      "[2] The condition number is large, 1.01e+03. This might indicate that there are\n",
      "strong multicollinearity or other numerical problems.\n"
     ]
    }
   ],
   "source": [
    "import statsmodels.api as sm\n",
    "import pandas as pd\n",
    "\n",
    "# Load the data\n",
    "data = pd.read_excel('data.xlsx')\n",
    "\n",
    "# Create the X and y matrices for the quarterly sales model\n",
    "X_q = data[['Age', 'Number of Assistants', 'Experience', 'Marketing Budget', 'Appraisal Score']]\n",
    "y_q = data[['Quarter 1', 'Quarter 2', 'Quarter 3', 'Quarter 4']]\n",
    "y_q_sum = y_q.sum(axis=1)\n",
    "\n",
    "# Add a constant column to X for the intercept\n",
    "X_q = sm.add_constant(X_q)\n",
    "\n",
    "# Fit the quarterly sales model\n",
    "model_q = sm.OLS(y_q_sum, X_q).fit()\n",
    "\n",
    "# Print the summary of the quarterly sales model\n",
    "#print(model_q.summary())\n",
    "\n",
    "# Create the X and y matrices for the annual sales model\n",
    "X_a = data[['Age', 'Number of Assistants', 'Experience', 'Marketing Budget', 'Appraisal Score']]\n",
    "y_a = data[['Quarter 1', 'Quarter 2', 'Quarter 3', 'Quarter 4']].sum(axis=1)\n",
    "\n",
    "# Add a constant column to X for the intercept\n",
    "X_a = sm.add_constant(X_a)\n",
    "\n",
    "# Fit the annual sales model\n",
    "model_a = sm.OLS(y_a, X_a).fit()\n",
    "\n",
    "# Print the summary of the annual sales model\n",
    "print(model_a.summary())"
   ]
  },
  {
   "cell_type": "code",
   "execution_count": 3,
   "id": "ef82dd6c",
   "metadata": {},
   "outputs": [
    {
     "ename": "ValueError",
     "evalue": "Shape of passed values is (10, 1), indices imply (10, 2)",
     "output_type": "error",
     "traceback": [
      "\u001b[1;31m---------------------------------------------------------------------------\u001b[0m",
      "\u001b[1;31mValueError\u001b[0m                                Traceback (most recent call last)",
      "\u001b[1;32m<ipython-input-3-ba314752271d>\u001b[0m in \u001b[0;36m<module>\u001b[1;34m\u001b[0m\n\u001b[0;32m      5\u001b[0m \u001b[1;33m\u001b[0m\u001b[0m\n\u001b[0;32m      6\u001b[0m \u001b[1;31m# Create a pandas DataFrame from the data\u001b[0m\u001b[1;33m\u001b[0m\u001b[1;33m\u001b[0m\u001b[1;33m\u001b[0m\u001b[0m\n\u001b[1;32m----> 7\u001b[1;33m \u001b[0mdf\u001b[0m \u001b[1;33m=\u001b[0m \u001b[0mpd\u001b[0m\u001b[1;33m.\u001b[0m\u001b[0mDataFrame\u001b[0m\u001b[1;33m(\u001b[0m\u001b[0mdata1\u001b[0m\u001b[1;33m,\u001b[0m \u001b[0mdata2\u001b[0m\u001b[1;33m,\u001b[0m \u001b[0mcolumns\u001b[0m\u001b[1;33m=\u001b[0m\u001b[1;33m[\u001b[0m\u001b[1;34m'values'\u001b[0m\u001b[1;33m,\u001b[0m \u001b[1;34m'data2'\u001b[0m\u001b[1;33m]\u001b[0m\u001b[1;33m)\u001b[0m\u001b[1;33m\u001b[0m\u001b[1;33m\u001b[0m\u001b[0m\n\u001b[0m\u001b[0;32m      8\u001b[0m \u001b[0mprint\u001b[0m\u001b[1;33m(\u001b[0m\u001b[0mdf\u001b[0m\u001b[1;33m)\u001b[0m\u001b[1;33m\u001b[0m\u001b[1;33m\u001b[0m\u001b[0m\n\u001b[0;32m      9\u001b[0m \u001b[1;33m\u001b[0m\u001b[0m\n",
      "\u001b[1;32m~\\AppData\\Roaming\\Python\\Python38\\site-packages\\pandas\\core\\frame.py\u001b[0m in \u001b[0;36m__init__\u001b[1;34m(self, data, index, columns, dtype, copy)\u001b[0m\n\u001b[0;32m    795\u001b[0m                     )\n\u001b[0;32m    796\u001b[0m                 \u001b[1;32melse\u001b[0m\u001b[1;33m:\u001b[0m\u001b[1;33m\u001b[0m\u001b[1;33m\u001b[0m\u001b[0m\n\u001b[1;32m--> 797\u001b[1;33m                     mgr = ndarray_to_mgr(\n\u001b[0m\u001b[0;32m    798\u001b[0m                         \u001b[0mdata\u001b[0m\u001b[1;33m,\u001b[0m\u001b[1;33m\u001b[0m\u001b[1;33m\u001b[0m\u001b[0m\n\u001b[0;32m    799\u001b[0m                         \u001b[0mindex\u001b[0m\u001b[1;33m,\u001b[0m\u001b[1;33m\u001b[0m\u001b[1;33m\u001b[0m\u001b[0m\n",
      "\u001b[1;32m~\\AppData\\Roaming\\Python\\Python38\\site-packages\\pandas\\core\\internals\\construction.py\u001b[0m in \u001b[0;36mndarray_to_mgr\u001b[1;34m(values, index, columns, dtype, copy, typ)\u001b[0m\n\u001b[0;32m    335\u001b[0m     )\n\u001b[0;32m    336\u001b[0m \u001b[1;33m\u001b[0m\u001b[0m\n\u001b[1;32m--> 337\u001b[1;33m     \u001b[0m_check_values_indices_shape_match\u001b[0m\u001b[1;33m(\u001b[0m\u001b[0mvalues\u001b[0m\u001b[1;33m,\u001b[0m \u001b[0mindex\u001b[0m\u001b[1;33m,\u001b[0m \u001b[0mcolumns\u001b[0m\u001b[1;33m)\u001b[0m\u001b[1;33m\u001b[0m\u001b[1;33m\u001b[0m\u001b[0m\n\u001b[0m\u001b[0;32m    338\u001b[0m \u001b[1;33m\u001b[0m\u001b[0m\n\u001b[0;32m    339\u001b[0m     \u001b[1;32mif\u001b[0m \u001b[0mtyp\u001b[0m \u001b[1;33m==\u001b[0m \u001b[1;34m\"array\"\u001b[0m\u001b[1;33m:\u001b[0m\u001b[1;33m\u001b[0m\u001b[1;33m\u001b[0m\u001b[0m\n",
      "\u001b[1;32m~\\AppData\\Roaming\\Python\\Python38\\site-packages\\pandas\\core\\internals\\construction.py\u001b[0m in \u001b[0;36m_check_values_indices_shape_match\u001b[1;34m(values, index, columns)\u001b[0m\n\u001b[0;32m    406\u001b[0m         \u001b[0mpassed\u001b[0m \u001b[1;33m=\u001b[0m \u001b[0mvalues\u001b[0m\u001b[1;33m.\u001b[0m\u001b[0mshape\u001b[0m\u001b[1;33m\u001b[0m\u001b[1;33m\u001b[0m\u001b[0m\n\u001b[0;32m    407\u001b[0m         \u001b[0mimplied\u001b[0m \u001b[1;33m=\u001b[0m \u001b[1;33m(\u001b[0m\u001b[0mlen\u001b[0m\u001b[1;33m(\u001b[0m\u001b[0mindex\u001b[0m\u001b[1;33m)\u001b[0m\u001b[1;33m,\u001b[0m \u001b[0mlen\u001b[0m\u001b[1;33m(\u001b[0m\u001b[0mcolumns\u001b[0m\u001b[1;33m)\u001b[0m\u001b[1;33m)\u001b[0m\u001b[1;33m\u001b[0m\u001b[1;33m\u001b[0m\u001b[0m\n\u001b[1;32m--> 408\u001b[1;33m         \u001b[1;32mraise\u001b[0m \u001b[0mValueError\u001b[0m\u001b[1;33m(\u001b[0m\u001b[1;34mf\"Shape of passed values is {passed}, indices imply {implied}\"\u001b[0m\u001b[1;33m)\u001b[0m\u001b[1;33m\u001b[0m\u001b[1;33m\u001b[0m\u001b[0m\n\u001b[0m\u001b[0;32m    409\u001b[0m \u001b[1;33m\u001b[0m\u001b[0m\n\u001b[0;32m    410\u001b[0m \u001b[1;33m\u001b[0m\u001b[0m\n",
      "\u001b[1;31mValueError\u001b[0m: Shape of passed values is (10, 1), indices imply (10, 2)"
     ]
    }
   ],
   "source": [
    "import pandas as pd\n",
    "\n",
    "data1 = [58.2, 57.2, 43.7, 72.1, 41.9, 45.2, 52.7, 38.2, 52.3, 41.1]\n",
    "data2 = [58.2, 57.2, 43.7, 72.1, 41.9, 45.2, 52.7, 38.2, 52.3, 41.1]\n",
    "\n",
    "# Create a pandas DataFrame from the data\n",
    "df = pd.DataFrame(data1, data2, columns=['values', 'data2'])\n",
    "print(df)\n",
    "\n",
    "# Calculate the sample variance using the var() method\n",
    "variance = df['values'].var(ddof=1)\n",
    "\n",
    "print(variance)"
   ]
  },
  {
   "cell_type": "code",
   "execution_count": null,
   "id": "568bbb23",
   "metadata": {},
   "outputs": [],
   "source": []
  }
 ],
 "metadata": {
  "kernelspec": {
   "display_name": "Python 3",
   "language": "python",
   "name": "python3"
  },
  "language_info": {
   "codemirror_mode": {
    "name": "ipython",
    "version": 3
   },
   "file_extension": ".py",
   "mimetype": "text/x-python",
   "name": "python",
   "nbconvert_exporter": "python",
   "pygments_lexer": "ipython3",
   "version": "3.8.8"
  }
 },
 "nbformat": 4,
 "nbformat_minor": 5
}
