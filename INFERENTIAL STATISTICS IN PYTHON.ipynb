{
 "cells": [
  {
   "cell_type": "code",
   "execution_count": 3,
   "id": "552df3af",
   "metadata": {},
   "outputs": [],
   "source": [
    "# Inference on Proportions"
   ]
  },
  {
   "cell_type": "code",
   "execution_count": 2,
   "id": "b652d6fd",
   "metadata": {},
   "outputs": [
    {
     "data": {
      "text/plain": [
       "(-0.8164965809277268, 0.41421617824252466)"
      ]
     },
     "execution_count": 2,
     "metadata": {},
     "output_type": "execute_result"
    }
   ],
   "source": [
    "# The One Sample Proportion Test\n",
    "#import proportions_ztest function\n",
    "from statsmodels.stats.proportion import proportions_ztest\n",
    "#perform one proportion z-test\n",
    "proportions_ztest(count=60, nobs=100, value=0.64)\n",
    "(-0.8164965809277268, 0.41421617824252466)"
   ]
  },
  {
   "cell_type": "code",
   "execution_count": 17,
   "id": "b3b6036c",
   "metadata": {
    "scrolled": true
   },
   "outputs": [
    {
     "ename": "ImportError",
     "evalue": "cannot import name 'binomtest' from 'scipy.stats' (C:\\ProgramData\\Anaconda3\\lib\\site-packages\\scipy\\stats\\__init__.py)",
     "output_type": "error",
     "traceback": [
      "\u001b[1;31m---------------------------------------------------------------------------\u001b[0m",
      "\u001b[1;31mImportError\u001b[0m                               Traceback (most recent call last)",
      "\u001b[1;32m<ipython-input-17-4aa8023ceec1>\u001b[0m in \u001b[0;36m<module>\u001b[1;34m\u001b[0m\n\u001b[0;32m      1\u001b[0m \u001b[1;31m# The Binomial Test\u001b[0m\u001b[1;33m\u001b[0m\u001b[1;33m\u001b[0m\u001b[1;33m\u001b[0m\u001b[0m\n\u001b[0;32m      2\u001b[0m \u001b[1;32mimport\u001b[0m \u001b[0mscipy\u001b[0m\u001b[1;33m\u001b[0m\u001b[1;33m\u001b[0m\u001b[0m\n\u001b[1;32m----> 3\u001b[1;33m \u001b[1;32mfrom\u001b[0m \u001b[0mscipy\u001b[0m\u001b[1;33m.\u001b[0m\u001b[0mstats\u001b[0m \u001b[1;32mimport\u001b[0m \u001b[0mbinomtest\u001b[0m\u001b[1;33m\u001b[0m\u001b[1;33m\u001b[0m\u001b[0m\n\u001b[0m\u001b[0;32m      4\u001b[0m \u001b[0mbinomtest\u001b[0m\u001b[1;33m(\u001b[0m\u001b[0mk\u001b[0m\u001b[1;33m=\u001b[0m\u001b[1;36m6\u001b[0m\u001b[1;33m,\u001b[0m \u001b[0mn\u001b[0m\u001b[1;33m=\u001b[0m\u001b[1;36m24\u001b[0m\u001b[1;33m,\u001b[0m \u001b[0mp\u001b[0m\u001b[1;33m=\u001b[0m\u001b[1;36m1\u001b[0m\u001b[1;33m/\u001b[0m\u001b[1;36m6\u001b[0m\u001b[1;33m,\u001b[0m \u001b[0malternative\u001b[0m\u001b[1;33m=\u001b[0m\u001b[1;34m'greater'\u001b[0m\u001b[1;33m)\u001b[0m\u001b[1;33m\u001b[0m\u001b[1;33m\u001b[0m\u001b[0m\n",
      "\u001b[1;31mImportError\u001b[0m: cannot import name 'binomtest' from 'scipy.stats' (C:\\ProgramData\\Anaconda3\\lib\\site-packages\\scipy\\stats\\__init__.py)"
     ]
    }
   ],
   "source": [
    "# The Binomial Test\n",
    "from scipy.stats import binomtest\n",
    "binomtest(k=6, n=24, p=1/6, alternative='greater')"
   ]
  },
  {
   "cell_type": "code",
   "execution_count": 19,
   "id": "8ee6fc34",
   "metadata": {},
   "outputs": [
    {
     "name": "stdout",
     "output_type": "stream",
     "text": [
      "1.6.2\n"
     ]
    }
   ],
   "source": [
    "import scipy\n",
    "print(scipy.__version__)"
   ]
  },
  {
   "cell_type": "code",
   "execution_count": 21,
   "id": "86e86cc5",
   "metadata": {},
   "outputs": [
    {
     "name": "stdout",
     "output_type": "stream",
     "text": [
      "0.0000\n"
     ]
    }
   ],
   "source": [
    "# The Two Sample Proportion Test\n",
    "import numpy as np\n",
    "from statsmodels.stats.proportion import proportions_ztest\n",
    "count = np.array([110, 33])\n",
    "nobs = np.array([201229, 200745])\n",
    "stat, pval = proportions_ztest(count, nobs)\n",
    "print('{0:0.4f}'.format(pval))"
   ]
  },
  {
   "cell_type": "code",
   "execution_count": 22,
   "id": "ebc4b479",
   "metadata": {},
   "outputs": [],
   "source": [
    "#Inference on Means"
   ]
  },
  {
   "cell_type": "code",
   "execution_count": 24,
   "id": "4b2c2c34",
   "metadata": {},
   "outputs": [
    {
     "data": {
      "text/plain": [
       "Ttest_1sampResult(statistic=-0.6820482925847234, pvalue=0.5081597296128026)"
      ]
     },
     "execution_count": 24,
     "metadata": {},
     "output_type": "execute_result"
    }
   ],
   "source": [
    "#The One Sample 𝒕 Test\n",
    "import scipy.stats as stats\n",
    "#define data\n",
    "data = [136,143,145,141,143,140,136,140,138,138,138,137,138]\n",
    "#perform one sample t-test\n",
    "stats.ttest_1samp(a=data, popmean=140)"
   ]
  },
  {
   "cell_type": "code",
   "execution_count": 25,
   "id": "0fd594d0",
   "metadata": {},
   "outputs": [
    {
     "data": {
      "text/plain": [
       "Ttest_indResult(statistic=-2.106933072296379, pvalue=0.045761094536692436)"
      ]
     },
     "execution_count": 25,
     "metadata": {},
     "output_type": "execute_result"
    }
   ],
   "source": [
    "#The Two Sample 𝒕 Test\n",
    "import scipy.stats as stats\n",
    "#Define array of turtle weights for each sample\n",
    "sample1 = [136,143,145,141,143,140,136,140,138,138,138,137,135]\n",
    "sample2 = [152,149,146,146,147,145,138,140,138,141,139,136,138]\n",
    "#Perform the two sample t-test\n",
    "stats.ttest_ind(a=sample1, b=sample2)"
   ]
  },
  {
   "cell_type": "code",
   "execution_count": 26,
   "id": "f1fc5db2",
   "metadata": {},
   "outputs": [
    {
     "data": {
      "text/plain": [
       "Ttest_relResult(statistic=-2.5289026942943655, pvalue=0.02802807458682508)"
      ]
     },
     "execution_count": 26,
     "metadata": {},
     "output_type": "execute_result"
    }
   ],
   "source": [
    "#The Paired Samples 𝒕 Test\n",
    "import scipy.stats as stats\n",
    "#Define before and after max jump heights\n",
    "before = [22, 24, 20, 19, 19, 20, 22, 25, 24, 23, 22, 21]\n",
    "after = [23, 25, 20, 24, 18, 22, 23, 28, 24, 25, 24, 20]\n",
    "#Perform the paired samples t-test\n",
    "stats.ttest_rel(a=before, b=after)"
   ]
  },
  {
   "cell_type": "code",
   "execution_count": 27,
   "id": "27280b4c",
   "metadata": {},
   "outputs": [],
   "source": [
    "#Analysis of Variance"
   ]
  },
  {
   "cell_type": "code",
   "execution_count": 29,
   "id": "31a2c367",
   "metadata": {},
   "outputs": [
    {
     "data": {
      "text/plain": [
       "F_onewayResult(statistic=2.3575322551335636, pvalue=0.11384795345837218)"
      ]
     },
     "execution_count": 29,
     "metadata": {},
     "output_type": "execute_result"
    }
   ],
   "source": [
    "#One Way ANOVA\n",
    "from scipy.stats import f_oneway\n",
    "#Enter exam scores for each group\n",
    "group1 = [85, 86, 88, 75, 78, 94, 98, 79, 71, 80]\n",
    "group2 = [91, 92, 93, 85, 87, 84, 82, 88, 95, 96]\n",
    "group3 = [79, 78, 88, 94, 92, 85, 83, 85, 82, 81]\n",
    "#perform one-way ANOVA\n",
    "f_oneway(group1, group2, group3)"
   ]
  },
  {
   "cell_type": "code",
   "execution_count": 35,
   "id": "8d45b0d5",
   "metadata": {},
   "outputs": [
    {
     "name": "stdout",
     "output_type": "stream",
     "text": [
      "     water   sun  height\n",
      "0    daily   low       6\n",
      "1    daily   low       6\n",
      "2    daily   low       6\n",
      "3    daily   low       5\n",
      "4    daily   low       6\n",
      "5    daily   med       5\n",
      "6    daily   med       5\n",
      "7    daily   med       6\n",
      "8    daily   med       4\n",
      "9    daily   med       5\n",
      "10   daily  high       6\n",
      "11   daily  high       6\n",
      "12   daily  high       7\n",
      "13   daily  high       8\n",
      "14   daily  high       7\n",
      "15  weekly   low       3\n",
      "16  weekly   low       4\n",
      "17  weekly   low       4\n",
      "18  weekly   low       4\n",
      "19  weekly   low       5\n",
      "20  weekly   med       4\n",
      "21  weekly   med       4\n",
      "22  weekly   med       4\n",
      "23  weekly   med       4\n",
      "24  weekly   med       4\n",
      "25  weekly  high       5\n",
      "26  weekly  high       6\n",
      "27  weekly  high       6\n",
      "28  weekly  high       7\n",
      "29  weekly  high       8\n"
     ]
    },
    {
     "data": {
      "text/html": [
       "<div>\n",
       "<style scoped>\n",
       "    .dataframe tbody tr th:only-of-type {\n",
       "        vertical-align: middle;\n",
       "    }\n",
       "\n",
       "    .dataframe tbody tr th {\n",
       "        vertical-align: top;\n",
       "    }\n",
       "\n",
       "    .dataframe thead th {\n",
       "        text-align: right;\n",
       "    }\n",
       "</style>\n",
       "<table border=\"1\" class=\"dataframe\">\n",
       "  <thead>\n",
       "    <tr style=\"text-align: right;\">\n",
       "      <th></th>\n",
       "      <th>sum_sq</th>\n",
       "      <th>df</th>\n",
       "      <th>F</th>\n",
       "      <th>PR(&gt;F)</th>\n",
       "    </tr>\n",
       "  </thead>\n",
       "  <tbody>\n",
       "    <tr>\n",
       "      <th>C(water)</th>\n",
       "      <td>8.533333</td>\n",
       "      <td>1.0</td>\n",
       "      <td>16.0000</td>\n",
       "      <td>0.000527</td>\n",
       "    </tr>\n",
       "    <tr>\n",
       "      <th>C(sun)</th>\n",
       "      <td>24.866667</td>\n",
       "      <td>2.0</td>\n",
       "      <td>23.3125</td>\n",
       "      <td>0.000002</td>\n",
       "    </tr>\n",
       "    <tr>\n",
       "      <th>C(water):C(sun)</th>\n",
       "      <td>2.466667</td>\n",
       "      <td>2.0</td>\n",
       "      <td>2.3125</td>\n",
       "      <td>0.120667</td>\n",
       "    </tr>\n",
       "    <tr>\n",
       "      <th>Residual</th>\n",
       "      <td>12.800000</td>\n",
       "      <td>24.0</td>\n",
       "      <td>NaN</td>\n",
       "      <td>NaN</td>\n",
       "    </tr>\n",
       "  </tbody>\n",
       "</table>\n",
       "</div>"
      ],
      "text/plain": [
       "                    sum_sq    df        F    PR(>F)\n",
       "C(water)          8.533333   1.0  16.0000  0.000527\n",
       "C(sun)           24.866667   2.0  23.3125  0.000002\n",
       "C(water):C(sun)   2.466667   2.0   2.3125  0.120667\n",
       "Residual         12.800000  24.0      NaN       NaN"
      ]
     },
     "execution_count": 35,
     "metadata": {},
     "output_type": "execute_result"
    }
   ],
   "source": [
    "#Two Way ANOVA\n",
    "import numpy as np\n",
    "import pandas as pd\n",
    "import statsmodels.api as sm\n",
    "from statsmodels.formula.api import ols\n",
    "\n",
    "#Create data\n",
    "df = pd.DataFrame({'water': np.repeat(['daily', 'weekly'], 15),\n",
    "'sun': np.tile(np.repeat(['low', 'med', 'high'], 5), 2),\n",
    "'height': [6, 6, 6, 5, 6, 5, 5, 6, 4, 5,6, 6, 7, 8, 7, 3, 4, 4,\n",
    "4, 5,4, 4, 4, 4, 4, 5, 6, 6, 7, 8]})\n",
    "#View first ten rows of data\n",
    "print(df)\n",
    "#perform two-way ANOVA\n",
    "model = ols('height ~ C(water) + C(sun) + C(water):C(sun)',data=df).fit()\n",
    "sm.stats.anova_lm(model, typ=2)"
   ]
  },
  {
   "cell_type": "code",
   "execution_count": 34,
   "id": "17e3f027",
   "metadata": {},
   "outputs": [
    {
     "name": "stdout",
     "output_type": "stream",
     "text": [
      "    program gender  division  height\n",
      "0         1      M         1       7\n",
      "1         1      M         1       7\n",
      "2         1      M         1       8\n",
      "3         1      M         1       8\n",
      "4         1      M         1       7\n",
      "5         1      M         2       6\n",
      "6         1      M         2       6\n",
      "7         1      M         2       5\n",
      "8         1      M         2       6\n",
      "9         1      M         2       5\n",
      "10        1      F         1       5\n",
      "11        1      F         1       5\n",
      "12        1      F         1       4\n",
      "13        1      F         1       5\n",
      "14        1      F         1       4\n",
      "15        1      F         2       3\n",
      "16        1      F         2       3\n",
      "17        1      F         2       4\n",
      "18        1      F         2       3\n",
      "19        1      F         2       3\n",
      "20        2      M         1       6\n",
      "21        2      M         1       6\n",
      "22        2      M         1       5\n",
      "23        2      M         1       4\n",
      "24        2      M         1       5\n",
      "25        2      M         2       4\n",
      "26        2      M         2       5\n",
      "27        2      M         2       4\n",
      "28        2      M         2       4\n",
      "29        2      M         2       3\n",
      "30        2      F         1       2\n",
      "31        2      F         1       2\n",
      "32        2      F         1       1\n",
      "33        2      F         1       4\n",
      "34        2      F         1       4\n",
      "35        2      F         2       2\n",
      "36        2      F         2       1\n",
      "37        2      F         2       1\n",
      "38        2      F         2       2\n",
      "39        2      F         2       1\n"
     ]
    },
    {
     "data": {
      "text/html": [
       "<div>\n",
       "<style scoped>\n",
       "    .dataframe tbody tr th:only-of-type {\n",
       "        vertical-align: middle;\n",
       "    }\n",
       "\n",
       "    .dataframe tbody tr th {\n",
       "        vertical-align: top;\n",
       "    }\n",
       "\n",
       "    .dataframe thead th {\n",
       "        text-align: right;\n",
       "    }\n",
       "</style>\n",
       "<table border=\"1\" class=\"dataframe\">\n",
       "  <thead>\n",
       "    <tr style=\"text-align: right;\">\n",
       "      <th></th>\n",
       "      <th>sum_sq</th>\n",
       "      <th>df</th>\n",
       "      <th>F</th>\n",
       "      <th>PR(&gt;F)</th>\n",
       "    </tr>\n",
       "  </thead>\n",
       "  <tbody>\n",
       "    <tr>\n",
       "      <th>C(program)</th>\n",
       "      <td>3.610000e+01</td>\n",
       "      <td>1.0</td>\n",
       "      <td>6.563636e+01</td>\n",
       "      <td>2.983934e-09</td>\n",
       "    </tr>\n",
       "    <tr>\n",
       "      <th>C(gender)</th>\n",
       "      <td>6.760000e+01</td>\n",
       "      <td>1.0</td>\n",
       "      <td>1.229091e+02</td>\n",
       "      <td>1.714432e-12</td>\n",
       "    </tr>\n",
       "    <tr>\n",
       "      <th>C(division)</th>\n",
       "      <td>1.960000e+01</td>\n",
       "      <td>1.0</td>\n",
       "      <td>3.563636e+01</td>\n",
       "      <td>1.185218e-06</td>\n",
       "    </tr>\n",
       "    <tr>\n",
       "      <th>C(program):C(gender)</th>\n",
       "      <td>2.313523e-30</td>\n",
       "      <td>1.0</td>\n",
       "      <td>4.206406e-30</td>\n",
       "      <td>1.000000e+00</td>\n",
       "    </tr>\n",
       "    <tr>\n",
       "      <th>C(program):C(division)</th>\n",
       "      <td>4.000000e-01</td>\n",
       "      <td>1.0</td>\n",
       "      <td>7.272727e-01</td>\n",
       "      <td>4.001069e-01</td>\n",
       "    </tr>\n",
       "    <tr>\n",
       "      <th>C(gender):C(division)</th>\n",
       "      <td>1.000000e-01</td>\n",
       "      <td>1.0</td>\n",
       "      <td>1.818182e-01</td>\n",
       "      <td>6.726702e-01</td>\n",
       "    </tr>\n",
       "    <tr>\n",
       "      <th>C(program):C(gender):C(division)</th>\n",
       "      <td>1.000000e-01</td>\n",
       "      <td>1.0</td>\n",
       "      <td>1.818182e-01</td>\n",
       "      <td>6.726702e-01</td>\n",
       "    </tr>\n",
       "    <tr>\n",
       "      <th>Residual</th>\n",
       "      <td>1.760000e+01</td>\n",
       "      <td>32.0</td>\n",
       "      <td>NaN</td>\n",
       "      <td>NaN</td>\n",
       "    </tr>\n",
       "  </tbody>\n",
       "</table>\n",
       "</div>"
      ],
      "text/plain": [
       "                                        sum_sq    df             F  \\\n",
       "C(program)                        3.610000e+01   1.0  6.563636e+01   \n",
       "C(gender)                         6.760000e+01   1.0  1.229091e+02   \n",
       "C(division)                       1.960000e+01   1.0  3.563636e+01   \n",
       "C(program):C(gender)              2.313523e-30   1.0  4.206406e-30   \n",
       "C(program):C(division)            4.000000e-01   1.0  7.272727e-01   \n",
       "C(gender):C(division)             1.000000e-01   1.0  1.818182e-01   \n",
       "C(program):C(gender):C(division)  1.000000e-01   1.0  1.818182e-01   \n",
       "Residual                          1.760000e+01  32.0           NaN   \n",
       "\n",
       "                                        PR(>F)  \n",
       "C(program)                        2.983934e-09  \n",
       "C(gender)                         1.714432e-12  \n",
       "C(division)                       1.185218e-06  \n",
       "C(program):C(gender)              1.000000e+00  \n",
       "C(program):C(division)            4.001069e-01  \n",
       "C(gender):C(division)             6.726702e-01  \n",
       "C(program):C(gender):C(division)  6.726702e-01  \n",
       "Residual                                   NaN  "
      ]
     },
     "execution_count": 34,
     "metadata": {},
     "output_type": "execute_result"
    }
   ],
   "source": [
    "#Three Way ANOVA\n",
    "import numpy as np\n",
    "import pandas as pd\n",
    "import statsmodels.api as sm\n",
    "from statsmodels.formula.api import ols\n",
    "\n",
    "#Create DataFrame\n",
    "df = pd.DataFrame({'program': np.repeat([1, 2], 20),'gender':\n",
    "np.tile(np.repeat(['M', 'F'], 10), 2),\n",
    "'division': np.tile(np.repeat([1, 2], 5), 4),'height': [7, 7, 8, 8, 7, 6, 6, 5, 6, 5,5, 5, 4, 5, 4, 3, 3, 4,\n",
    "3, 3, 6, 6, 5, 4, 5, 4, 5, 4, 4, 3, 2, 2, 1, 4, 4, 2, 1, 1, 2,\n",
    "1]})\n",
    "#View first ten rows of DataFrame\n",
    "print(df)\n",
    "#perform three-way ANOVA\n",
    "model = ols(\"\"\"height ~ C(program) + \n",
    "C(gender) + C(division) + C(program):C(gender) + C(program):C(division) + \n",
    "C(gender):C(division) + C(program):C(gender):C(division)\"\"\",\n",
    "data=df).fit()\n",
    "sm.stats.anova_lm(model, typ=2)"
   ]
  },
  {
   "cell_type": "code",
   "execution_count": 39,
   "id": "828f917c",
   "metadata": {},
   "outputs": [
    {
     "name": "stdout",
     "output_type": "stream",
     "text": [
      "   patient  drug  response\n",
      "0        1     1        30\n",
      "1        1     2        28\n",
      "2        1     3        16\n",
      "3        1     4        34\n",
      "4        2     1        14\n",
      "              Anova\n",
      "==================================\n",
      "     F Value Num DF  Den DF Pr > F\n",
      "----------------------------------\n",
      "drug 24.7589 3.0000 12.0000 0.0000\n",
      "==================================\n",
      "\n"
     ]
    }
   ],
   "source": [
    "# Repeated Measures ANOVA\n",
    "import numpy as np\n",
    "import pandas as pd\n",
    "from statsmodels.stats.anova import AnovaRM\n",
    "\n",
    "#Create data\n",
    "df = pd.DataFrame({'patient': np.repeat([1, 2, 3, 4, 5], 4),\n",
    "'drug': np.tile([1, 2, 3, 4], 5),'response': [30, 28, 16, 34,\n",
    "14, 18, 10, 22, 24, 20, 18, 30, 38, 34, 20, 44, 26, 28, 14,\n",
    "30]})\n",
    "#View first 5 rows of data \n",
    "print(df.head())\n",
    "#perform the repeated measures ANOVA\n",
    "print(AnovaRM(data=df, depvar='response', subject='patient',\n",
    "within=['drug']).fit())"
   ]
  },
  {
   "cell_type": "code",
   "execution_count": 45,
   "id": "a22d63b8",
   "metadata": {},
   "outputs": [
    {
     "ename": "ImportError",
     "evalue": "cannot import name 'studentized_range' from 'scipy.stats' (C:\\ProgramData\\Anaconda3\\lib\\site-packages\\scipy\\stats\\__init__.py)",
     "output_type": "error",
     "traceback": [
      "\u001b[1;31m---------------------------------------------------------------------------\u001b[0m",
      "\u001b[1;31mImportError\u001b[0m                               Traceback (most recent call last)",
      "\u001b[1;32m<ipython-input-45-fb2324322a26>\u001b[0m in \u001b[0;36m<module>\u001b[1;34m\u001b[0m\n\u001b[0;32m      2\u001b[0m \u001b[1;32mimport\u001b[0m \u001b[0mnumpy\u001b[0m \u001b[1;32mas\u001b[0m \u001b[0mnp\u001b[0m\u001b[1;33m\u001b[0m\u001b[1;33m\u001b[0m\u001b[0m\n\u001b[0;32m      3\u001b[0m \u001b[1;32mimport\u001b[0m \u001b[0mpandas\u001b[0m \u001b[1;32mas\u001b[0m \u001b[0mpd\u001b[0m\u001b[1;33m\u001b[0m\u001b[1;33m\u001b[0m\u001b[0m\n\u001b[1;32m----> 4\u001b[1;33m \u001b[1;32mfrom\u001b[0m \u001b[0mpingouin\u001b[0m \u001b[1;32mimport\u001b[0m \u001b[0mancova\u001b[0m\u001b[1;33m\u001b[0m\u001b[1;33m\u001b[0m\u001b[0m\n\u001b[0m\u001b[0;32m      5\u001b[0m \u001b[1;33m\u001b[0m\u001b[0m\n\u001b[0;32m      6\u001b[0m \u001b[1;31m#Create data\u001b[0m\u001b[1;33m\u001b[0m\u001b[1;33m\u001b[0m\u001b[1;33m\u001b[0m\u001b[0m\n",
      "\u001b[1;32m~\\AppData\\Roaming\\Python\\Python38\\site-packages\\pingouin\\__init__.py\u001b[0m in \u001b[0;36m<module>\u001b[1;34m\u001b[0m\n\u001b[0;32m     12\u001b[0m \u001b[1;32mfrom\u001b[0m \u001b[1;33m.\u001b[0m\u001b[0mcorrelation\u001b[0m \u001b[1;32mimport\u001b[0m \u001b[1;33m*\u001b[0m\u001b[1;33m\u001b[0m\u001b[1;33m\u001b[0m\u001b[0m\n\u001b[0;32m     13\u001b[0m \u001b[1;32mfrom\u001b[0m \u001b[1;33m.\u001b[0m\u001b[0mcircular\u001b[0m \u001b[1;32mimport\u001b[0m \u001b[1;33m*\u001b[0m\u001b[1;33m\u001b[0m\u001b[1;33m\u001b[0m\u001b[0m\n\u001b[1;32m---> 14\u001b[1;33m \u001b[1;32mfrom\u001b[0m \u001b[1;33m.\u001b[0m\u001b[0mpairwise\u001b[0m \u001b[1;32mimport\u001b[0m \u001b[1;33m*\u001b[0m\u001b[1;33m\u001b[0m\u001b[1;33m\u001b[0m\u001b[0m\n\u001b[0m\u001b[0;32m     15\u001b[0m \u001b[1;32mfrom\u001b[0m \u001b[1;33m.\u001b[0m\u001b[0mpower\u001b[0m \u001b[1;32mimport\u001b[0m \u001b[1;33m*\u001b[0m\u001b[1;33m\u001b[0m\u001b[1;33m\u001b[0m\u001b[0m\n\u001b[0;32m     16\u001b[0m \u001b[1;32mfrom\u001b[0m \u001b[1;33m.\u001b[0m\u001b[0mreliability\u001b[0m \u001b[1;32mimport\u001b[0m \u001b[1;33m*\u001b[0m\u001b[1;33m\u001b[0m\u001b[1;33m\u001b[0m\u001b[0m\n",
      "\u001b[1;32m~\\AppData\\Roaming\\Python\\Python38\\site-packages\\pingouin\\pairwise.py\u001b[0m in \u001b[0;36m<module>\u001b[1;34m\u001b[0m\n\u001b[0;32m     10\u001b[0m \u001b[1;32mfrom\u001b[0m \u001b[0mpingouin\u001b[0m\u001b[1;33m.\u001b[0m\u001b[0meffsize\u001b[0m \u001b[1;32mimport\u001b[0m \u001b[0mcompute_effsize\u001b[0m\u001b[1;33m\u001b[0m\u001b[1;33m\u001b[0m\u001b[0m\n\u001b[0;32m     11\u001b[0m \u001b[1;32mfrom\u001b[0m \u001b[0mpingouin\u001b[0m\u001b[1;33m.\u001b[0m\u001b[0mutils\u001b[0m \u001b[1;32mimport\u001b[0m \u001b[0m_check_dataframe\u001b[0m\u001b[1;33m,\u001b[0m \u001b[0m_flatten_list\u001b[0m\u001b[1;33m,\u001b[0m \u001b[0m_postprocess_dataframe\u001b[0m\u001b[1;33m\u001b[0m\u001b[1;33m\u001b[0m\u001b[0m\n\u001b[1;32m---> 12\u001b[1;33m \u001b[1;32mfrom\u001b[0m \u001b[0mscipy\u001b[0m\u001b[1;33m.\u001b[0m\u001b[0mstats\u001b[0m \u001b[1;32mimport\u001b[0m \u001b[0mstudentized_range\u001b[0m\u001b[1;33m\u001b[0m\u001b[1;33m\u001b[0m\u001b[0m\n\u001b[0m\u001b[0;32m     13\u001b[0m \u001b[1;32mimport\u001b[0m \u001b[0mwarnings\u001b[0m\u001b[1;33m\u001b[0m\u001b[1;33m\u001b[0m\u001b[0m\n\u001b[0;32m     14\u001b[0m \u001b[1;33m\u001b[0m\u001b[0m\n",
      "\u001b[1;31mImportError\u001b[0m: cannot import name 'studentized_range' from 'scipy.stats' (C:\\ProgramData\\Anaconda3\\lib\\site-packages\\scipy\\stats\\__init__.py)"
     ]
    }
   ],
   "source": [
    "#Analysis of Covariance\n",
    "import numpy as np\n",
    "import pandas as pd\n",
    "from pingouin import ancova\n",
    "\n",
    "#Create data\n",
    "df = pd.DataFrame({'technique': np.repeat(['A', 'B', 'C'], 5),\n",
    "'current_grade': [67, 88, 75, 77, 85, 92, 69, 77, 74, 88, 96,\n",
    "91, 88, 82, 80], 'exam_score': [77, 89, 72, 74, 69, 78, 88, 93,\n",
    "94, 90, 85, 81, 83, 88, 79]})\n",
    "#View data\n",
    "print(df)\n",
    "#perform ANCOVA\n",
    "ancova(data=df, dv='exam_score', covar='current_grade', between='technique')"
   ]
  },
  {
   "cell_type": "code",
   "execution_count": null,
   "id": "1b645e2d",
   "metadata": {},
   "outputs": [],
   "source": []
  }
 ],
 "metadata": {
  "kernelspec": {
   "display_name": "Python 3",
   "language": "python",
   "name": "python3"
  },
  "language_info": {
   "codemirror_mode": {
    "name": "ipython",
    "version": 3
   },
   "file_extension": ".py",
   "mimetype": "text/x-python",
   "name": "python",
   "nbconvert_exporter": "python",
   "pygments_lexer": "ipython3",
   "version": "3.8.8"
  }
 },
 "nbformat": 4,
 "nbformat_minor": 5
}
