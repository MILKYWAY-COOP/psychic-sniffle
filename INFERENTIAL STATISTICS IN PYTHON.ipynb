{
 "cells": [
  {
   "cell_type": "code",
   "execution_count": 3,
   "id": "552df3af",
   "metadata": {},
   "outputs": [],
   "source": [
    "# Inference on Proportions"
   ]
  },
  {
   "cell_type": "code",
   "execution_count": 2,
   "id": "b652d6fd",
   "metadata": {},
   "outputs": [
    {
     "data": {
      "text/plain": [
       "(-0.8164965809277268, 0.41421617824252466)"
      ]
     },
     "execution_count": 2,
     "metadata": {},
     "output_type": "execute_result"
    }
   ],
   "source": [
    "# The One Sample Proportion Test\n",
    "#import proportions_ztest function\n",
    "from statsmodels.stats.proportion import proportions_ztest\n",
    "#perform one proportion z-test\n",
    "proportions_ztest(count=60, nobs=100, value=0.64)\n",
    "(-0.8164965809277268, 0.41421617824252466)"
   ]
  },
  {
   "cell_type": "code",
   "execution_count": 8,
   "id": "b3b6036c",
   "metadata": {
    "scrolled": true
   },
   "outputs": [
    {
     "data": {
      "text/plain": [
       "BinomTestResult(k=6, n=24, alternative='greater', proportion_estimate=0.25, pvalue=0.1995295129479585)"
      ]
     },
     "execution_count": 8,
     "metadata": {},
     "output_type": "execute_result"
    }
   ],
   "source": [
    "# The Binomial Test\n",
    "import scipy.stats as stats\n",
    "stats.binomtest(k=6, n=24, p=1/6, alternative='greater')"
   ]
  },
  {
   "cell_type": "code",
   "execution_count": 19,
   "id": "8ee6fc34",
   "metadata": {},
   "outputs": [
    {
     "name": "stdout",
     "output_type": "stream",
     "text": [
      "1.6.2\n"
     ]
    }
   ],
   "source": [
    "import scipy\n",
    "print(scipy.__version__)"
   ]
  },
  {
   "cell_type": "code",
   "execution_count": 21,
   "id": "86e86cc5",
   "metadata": {},
   "outputs": [
    {
     "name": "stdout",
     "output_type": "stream",
     "text": [
      "0.0000\n"
     ]
    }
   ],
   "source": [
    "# The Two Sample Proportion Test\n",
    "import numpy as np\n",
    "from statsmodels.stats.proportion import proportions_ztest\n",
    "count = np.array([110, 33])\n",
    "nobs = np.array([201229, 200745])\n",
    "stat, pval = proportions_ztest(count, nobs)\n",
    "print('{0:0.4f}'.format(pval))"
   ]
  },
  {
   "cell_type": "code",
   "execution_count": 22,
   "id": "ebc4b479",
   "metadata": {},
   "outputs": [],
   "source": [
    "#Inference on Means"
   ]
  },
  {
   "cell_type": "code",
   "execution_count": 24,
   "id": "4b2c2c34",
   "metadata": {},
   "outputs": [
    {
     "data": {
      "text/plain": [
       "Ttest_1sampResult(statistic=-0.6820482925847234, pvalue=0.5081597296128026)"
      ]
     },
     "execution_count": 24,
     "metadata": {},
     "output_type": "execute_result"
    }
   ],
   "source": [
    "#The One Sample 𝒕 Test\n",
    "import scipy.stats as stats\n",
    "#define data\n",
    "data = [136,143,145,141,143,140,136,140,138,138,138,137,138]\n",
    "#perform one sample t-test\n",
    "stats.ttest_1samp(a=data, popmean=140)"
   ]
  },
  {
   "cell_type": "code",
   "execution_count": 25,
   "id": "0fd594d0",
   "metadata": {},
   "outputs": [
    {
     "data": {
      "text/plain": [
       "Ttest_indResult(statistic=-2.106933072296379, pvalue=0.045761094536692436)"
      ]
     },
     "execution_count": 25,
     "metadata": {},
     "output_type": "execute_result"
    }
   ],
   "source": [
    "#The Two Sample 𝒕 Test\n",
    "import scipy.stats as stats\n",
    "#Define array of turtle weights for each sample\n",
    "sample1 = [136,143,145,141,143,140,136,140,138,138,138,137,135]\n",
    "sample2 = [152,149,146,146,147,145,138,140,138,141,139,136,138]\n",
    "#Perform the two sample t-test\n",
    "stats.ttest_ind(a=sample1, b=sample2)"
   ]
  },
  {
   "cell_type": "code",
   "execution_count": 26,
   "id": "f1fc5db2",
   "metadata": {},
   "outputs": [
    {
     "data": {
      "text/plain": [
       "Ttest_relResult(statistic=-2.5289026942943655, pvalue=0.02802807458682508)"
      ]
     },
     "execution_count": 26,
     "metadata": {},
     "output_type": "execute_result"
    }
   ],
   "source": [
    "#The Paired Samples 𝒕 Test\n",
    "import scipy.stats as stats\n",
    "#Define before and after max jump heights\n",
    "before = [22, 24, 20, 19, 19, 20, 22, 25, 24, 23, 22, 21]\n",
    "after = [23, 25, 20, 24, 18, 22, 23, 28, 24, 25, 24, 20]\n",
    "#Perform the paired samples t-test\n",
    "stats.ttest_rel(a=before, b=after)"
   ]
  },
  {
   "cell_type": "code",
   "execution_count": 27,
   "id": "27280b4c",
   "metadata": {},
   "outputs": [],
   "source": [
    "#Analysis of Variance"
   ]
  },
  {
   "cell_type": "code",
   "execution_count": 9,
   "id": "31a2c367",
   "metadata": {},
   "outputs": [
    {
     "data": {
      "text/plain": [
       "F_onewayResult(statistic=2.3575322551335636, pvalue=0.11384795345837218)"
      ]
     },
     "execution_count": 9,
     "metadata": {},
     "output_type": "execute_result"
    }
   ],
   "source": [
    "#One Way ANOVA\n",
    "import scipy.stats as stats\n",
    "#Enter exam scores for each group\n",
    "group1 = [85, 86, 88, 75, 78, 94, 98, 79, 71, 80]\n",
    "group2 = [91, 92, 93, 85, 87, 84, 82, 88, 95, 96]\n",
    "group3 = [79, 78, 88, 94, 92, 85, 83, 85, 82, 81]\n",
    "#perform one-way ANOVA\n",
    "stats.f_oneway(group1, group2, group3)"
   ]
  },
  {
   "cell_type": "code",
   "execution_count": 10,
   "id": "8d45b0d5",
   "metadata": {},
   "outputs": [
    {
     "data": {
      "text/html": [
       "<div>\n",
       "<style scoped>\n",
       "    .dataframe tbody tr th:only-of-type {\n",
       "        vertical-align: middle;\n",
       "    }\n",
       "\n",
       "    .dataframe tbody tr th {\n",
       "        vertical-align: top;\n",
       "    }\n",
       "\n",
       "    .dataframe thead th {\n",
       "        text-align: right;\n",
       "    }\n",
       "</style>\n",
       "<table border=\"1\" class=\"dataframe\">\n",
       "  <thead>\n",
       "    <tr style=\"text-align: right;\">\n",
       "      <th></th>\n",
       "      <th>sum_sq</th>\n",
       "      <th>df</th>\n",
       "      <th>F</th>\n",
       "      <th>PR(&gt;F)</th>\n",
       "    </tr>\n",
       "  </thead>\n",
       "  <tbody>\n",
       "    <tr>\n",
       "      <th>C(water)</th>\n",
       "      <td>8.533333</td>\n",
       "      <td>1.0</td>\n",
       "      <td>16.0000</td>\n",
       "      <td>0.000527</td>\n",
       "    </tr>\n",
       "    <tr>\n",
       "      <th>C(sun)</th>\n",
       "      <td>24.866667</td>\n",
       "      <td>2.0</td>\n",
       "      <td>23.3125</td>\n",
       "      <td>0.000002</td>\n",
       "    </tr>\n",
       "    <tr>\n",
       "      <th>C(water):C(sun)</th>\n",
       "      <td>2.466667</td>\n",
       "      <td>2.0</td>\n",
       "      <td>2.3125</td>\n",
       "      <td>0.120667</td>\n",
       "    </tr>\n",
       "    <tr>\n",
       "      <th>Residual</th>\n",
       "      <td>12.800000</td>\n",
       "      <td>24.0</td>\n",
       "      <td>NaN</td>\n",
       "      <td>NaN</td>\n",
       "    </tr>\n",
       "  </tbody>\n",
       "</table>\n",
       "</div>"
      ],
      "text/plain": [
       "                    sum_sq    df        F    PR(>F)\n",
       "C(water)          8.533333   1.0  16.0000  0.000527\n",
       "C(sun)           24.866667   2.0  23.3125  0.000002\n",
       "C(water):C(sun)   2.466667   2.0   2.3125  0.120667\n",
       "Residual         12.800000  24.0      NaN       NaN"
      ]
     },
     "execution_count": 10,
     "metadata": {},
     "output_type": "execute_result"
    }
   ],
   "source": [
    "#Two Way ANOVA\n",
    "import numpy as np\n",
    "import pandas as pd\n",
    "import statsmodels.api as sm\n",
    "from statsmodels.formula.api import ols\n",
    "\n",
    "#Create data\n",
    "df = pd.DataFrame({'water': np.repeat(['daily', 'weekly'], 15),\n",
    "'sun': np.tile(np.repeat(['low', 'med', 'high'], 5), 2),\n",
    "'height': [6, 6, 6, 5, 6, 5, 5, 6, 4, 5,6, 6, 7, 8, 7, 3, 4, 4,\n",
    "4, 5,4, 4, 4, 4, 4, 5, 6, 6, 7, 8]})\n",
    "#perform two-way ANOVA\n",
    "model = ols('height ~ C(water) + C(sun) + C(water):C(sun)',data=df).fit()\n",
    "sm.stats.anova_lm(model, typ=2)"
   ]
  },
  {
   "cell_type": "code",
   "execution_count": 11,
   "id": "17e3f027",
   "metadata": {},
   "outputs": [
    {
     "data": {
      "text/html": [
       "<div>\n",
       "<style scoped>\n",
       "    .dataframe tbody tr th:only-of-type {\n",
       "        vertical-align: middle;\n",
       "    }\n",
       "\n",
       "    .dataframe tbody tr th {\n",
       "        vertical-align: top;\n",
       "    }\n",
       "\n",
       "    .dataframe thead th {\n",
       "        text-align: right;\n",
       "    }\n",
       "</style>\n",
       "<table border=\"1\" class=\"dataframe\">\n",
       "  <thead>\n",
       "    <tr style=\"text-align: right;\">\n",
       "      <th></th>\n",
       "      <th>sum_sq</th>\n",
       "      <th>df</th>\n",
       "      <th>F</th>\n",
       "      <th>PR(&gt;F)</th>\n",
       "    </tr>\n",
       "  </thead>\n",
       "  <tbody>\n",
       "    <tr>\n",
       "      <th>C(program)</th>\n",
       "      <td>3.610000e+01</td>\n",
       "      <td>1.0</td>\n",
       "      <td>6.563636e+01</td>\n",
       "      <td>2.983934e-09</td>\n",
       "    </tr>\n",
       "    <tr>\n",
       "      <th>C(gender)</th>\n",
       "      <td>6.760000e+01</td>\n",
       "      <td>1.0</td>\n",
       "      <td>1.229091e+02</td>\n",
       "      <td>1.714432e-12</td>\n",
       "    </tr>\n",
       "    <tr>\n",
       "      <th>C(division)</th>\n",
       "      <td>1.960000e+01</td>\n",
       "      <td>1.0</td>\n",
       "      <td>3.563636e+01</td>\n",
       "      <td>1.185218e-06</td>\n",
       "    </tr>\n",
       "    <tr>\n",
       "      <th>C(program):C(gender)</th>\n",
       "      <td>2.603857e-29</td>\n",
       "      <td>1.0</td>\n",
       "      <td>4.734286e-29</td>\n",
       "      <td>1.000000e+00</td>\n",
       "    </tr>\n",
       "    <tr>\n",
       "      <th>C(program):C(division)</th>\n",
       "      <td>4.000000e-01</td>\n",
       "      <td>1.0</td>\n",
       "      <td>7.272727e-01</td>\n",
       "      <td>4.001069e-01</td>\n",
       "    </tr>\n",
       "    <tr>\n",
       "      <th>C(gender):C(division)</th>\n",
       "      <td>1.000000e-01</td>\n",
       "      <td>1.0</td>\n",
       "      <td>1.818182e-01</td>\n",
       "      <td>6.726702e-01</td>\n",
       "    </tr>\n",
       "    <tr>\n",
       "      <th>C(program):C(gender):C(division)</th>\n",
       "      <td>1.000000e-01</td>\n",
       "      <td>1.0</td>\n",
       "      <td>1.818182e-01</td>\n",
       "      <td>6.726702e-01</td>\n",
       "    </tr>\n",
       "    <tr>\n",
       "      <th>Residual</th>\n",
       "      <td>1.760000e+01</td>\n",
       "      <td>32.0</td>\n",
       "      <td>NaN</td>\n",
       "      <td>NaN</td>\n",
       "    </tr>\n",
       "  </tbody>\n",
       "</table>\n",
       "</div>"
      ],
      "text/plain": [
       "                                        sum_sq    df             F   \n",
       "C(program)                        3.610000e+01   1.0  6.563636e+01  \\\n",
       "C(gender)                         6.760000e+01   1.0  1.229091e+02   \n",
       "C(division)                       1.960000e+01   1.0  3.563636e+01   \n",
       "C(program):C(gender)              2.603857e-29   1.0  4.734286e-29   \n",
       "C(program):C(division)            4.000000e-01   1.0  7.272727e-01   \n",
       "C(gender):C(division)             1.000000e-01   1.0  1.818182e-01   \n",
       "C(program):C(gender):C(division)  1.000000e-01   1.0  1.818182e-01   \n",
       "Residual                          1.760000e+01  32.0           NaN   \n",
       "\n",
       "                                        PR(>F)  \n",
       "C(program)                        2.983934e-09  \n",
       "C(gender)                         1.714432e-12  \n",
       "C(division)                       1.185218e-06  \n",
       "C(program):C(gender)              1.000000e+00  \n",
       "C(program):C(division)            4.001069e-01  \n",
       "C(gender):C(division)             6.726702e-01  \n",
       "C(program):C(gender):C(division)  6.726702e-01  \n",
       "Residual                                   NaN  "
      ]
     },
     "execution_count": 11,
     "metadata": {},
     "output_type": "execute_result"
    }
   ],
   "source": [
    "#Three Way ANOVA\n",
    "import numpy as np\n",
    "import pandas as pd\n",
    "import statsmodels.api as sm\n",
    "from statsmodels.formula.api import ols\n",
    "\n",
    "#Create DataFrame\n",
    "df = pd.DataFrame({'program': np.repeat([1, 2], 20),'gender':\n",
    "np.tile(np.repeat(['M', 'F'], 10), 2),\n",
    "'division': np.tile(np.repeat([1, 2], 5), 4),'height': [7, 7, 8, 8, 7, 6, 6, 5, 6, 5,5, 5, 4, 5, 4, 3, 3, 4,\n",
    "3, 3, 6, 6, 5, 4, 5, 4, 5, 4, 4, 3, 2, 2, 1, 4, 4, 2, 1, 1, 2,\n",
    "1]})\n",
    "#perform three-way ANOVA\n",
    "model = ols(\"\"\"height ~ C(program) + \n",
    "C(gender) + C(division) + C(program):C(gender) + C(program):C(division) + \n",
    "C(gender):C(division) + C(program):C(gender):C(division)\"\"\",\n",
    "data=df).fit()\n",
    "sm.stats.anova_lm(model, typ=2)"
   ]
  },
  {
   "cell_type": "code",
   "execution_count": 12,
   "id": "828f917c",
   "metadata": {},
   "outputs": [
    {
     "data": {
      "text/plain": [
       "<statsmodels.stats.anova.AnovaResults at 0x14c33e38>"
      ]
     },
     "execution_count": 12,
     "metadata": {},
     "output_type": "execute_result"
    }
   ],
   "source": [
    "# Repeated Measures ANOVA\n",
    "import numpy as np\n",
    "import pandas as pd\n",
    "from statsmodels.stats.anova import AnovaRM\n",
    "\n",
    "#Create data\n",
    "df = pd.DataFrame({'patient': np.repeat([1, 2, 3, 4, 5], 4),\n",
    "'drug': np.tile([1, 2, 3, 4], 5),'response': [30, 28, 16, 34,\n",
    "14, 18, 10, 22, 24, 20, 18, 30, 38, 34, 20, 44, 26, 28, 14,\n",
    "30]})\n",
    "#perform the repeated measures ANOVA\n",
    "print(AnovaRM(data=df, depvar='response', subject='patient',within=['drug']).fit())"
   ]
  },
  {
   "cell_type": "code",
   "execution_count": 1,
   "id": "a22d63b8",
   "metadata": {},
   "outputs": [
    {
     "name": "stdout",
     "output_type": "stream",
     "text": [
      "   technique  current_grade  exam_score\n",
      "0          A             67          77\n",
      "1          A             88          89\n",
      "2          A             75          72\n",
      "3          A             77          74\n",
      "4          A             85          69\n",
      "5          B             92          78\n",
      "6          B             69          88\n",
      "7          B             77          93\n",
      "8          B             74          94\n",
      "9          B             88          90\n",
      "10         C             96          85\n",
      "11         C             91          81\n",
      "12         C             88          83\n",
      "13         C             82          88\n",
      "14         C             80          79\n"
     ]
    },
    {
     "data": {
      "text/html": [
       "<div>\n",
       "<style scoped>\n",
       "    .dataframe tbody tr th:only-of-type {\n",
       "        vertical-align: middle;\n",
       "    }\n",
       "\n",
       "    .dataframe tbody tr th {\n",
       "        vertical-align: top;\n",
       "    }\n",
       "\n",
       "    .dataframe thead th {\n",
       "        text-align: right;\n",
       "    }\n",
       "</style>\n",
       "<table border=\"1\" class=\"dataframe\">\n",
       "  <thead>\n",
       "    <tr style=\"text-align: right;\">\n",
       "      <th></th>\n",
       "      <th>Source</th>\n",
       "      <th>SS</th>\n",
       "      <th>DF</th>\n",
       "      <th>F</th>\n",
       "      <th>p-unc</th>\n",
       "      <th>np2</th>\n",
       "    </tr>\n",
       "  </thead>\n",
       "  <tbody>\n",
       "    <tr>\n",
       "      <th>0</th>\n",
       "      <td>technique</td>\n",
       "      <td>390.575130</td>\n",
       "      <td>2</td>\n",
       "      <td>4.809973</td>\n",
       "      <td>0.031556</td>\n",
       "      <td>0.466536</td>\n",
       "    </tr>\n",
       "    <tr>\n",
       "      <th>1</th>\n",
       "      <td>current_grade</td>\n",
       "      <td>4.193886</td>\n",
       "      <td>1</td>\n",
       "      <td>0.103296</td>\n",
       "      <td>0.753934</td>\n",
       "      <td>0.009303</td>\n",
       "    </tr>\n",
       "    <tr>\n",
       "      <th>2</th>\n",
       "      <td>Residual</td>\n",
       "      <td>446.606114</td>\n",
       "      <td>11</td>\n",
       "      <td>NaN</td>\n",
       "      <td>NaN</td>\n",
       "      <td>NaN</td>\n",
       "    </tr>\n",
       "  </tbody>\n",
       "</table>\n",
       "</div>"
      ],
      "text/plain": [
       "          Source          SS  DF         F     p-unc       np2\n",
       "0      technique  390.575130   2  4.809973  0.031556  0.466536\n",
       "1  current_grade    4.193886   1  0.103296  0.753934  0.009303\n",
       "2       Residual  446.606114  11       NaN       NaN       NaN"
      ]
     },
     "execution_count": 1,
     "metadata": {},
     "output_type": "execute_result"
    }
   ],
   "source": [
    "#Analysis of Covariance\n",
    "import numpy as np\n",
    "import pandas as pd\n",
    "from pingouin import ancova\n",
    "\n",
    "#Create data\n",
    "df = pd.DataFrame({'technique': np.repeat(['A', 'B', 'C'], 5),\n",
    "'current_grade': [67, 88, 75, 77, 85, 92, 69, 77, 74, 88, 96,\n",
    "91, 88, 82, 80], 'exam_score': [77, 89, 72, 74, 69, 78, 88, 93,\n",
    "94, 90, 85, 81, 83, 88, 79]})\n",
    "#View data\n",
    "print(df)\n",
    "#perform ANCOVA\n",
    "ancova(data=df, dv='exam_score', covar='current_grade', between='technique')"
   ]
  },
  {
   "cell_type": "code",
   "execution_count": 13,
   "id": "1b645e2d",
   "metadata": {},
   "outputs": [
    {
     "name": "stdout",
     "output_type": "stream",
     "text": [
      "                            OLS Regression Results                            \n",
      "==============================================================================\n",
      "Dep. Variable:                  score   R-squared:                       0.734\n",
      "Model:                            OLS   Adj. R-squared:                  0.703\n",
      "Method:                 Least Squares   F-statistic:                     23.46\n",
      "Date:                Mon, 10 Apr 2023   Prob (F-statistic):           1.29e-05\n",
      "Time:                        11:05:36   Log-Likelihood:                -60.354\n",
      "No. Observations:                  20   AIC:                             126.7\n",
      "Df Residuals:                      17   BIC:                             129.7\n",
      "Df Model:                           2                                         \n",
      "Covariance Type:            nonrobust                                         \n",
      "==============================================================================\n",
      "                 coef    std err          t      P>|t|      [0.025      0.975]\n",
      "------------------------------------------------------------------------------\n",
      "const         67.6735      2.816     24.033      0.000      61.733      73.614\n",
      "hours          5.5557      0.899      6.179      0.000       3.659       7.453\n",
      "exams         -0.6017      0.914     -0.658      0.519      -2.531       1.327\n",
      "==============================================================================\n",
      "Omnibus:                        0.341   Durbin-Watson:                   1.506\n",
      "Prob(Omnibus):                  0.843   Jarque-Bera (JB):                0.196\n",
      "Skew:                          -0.216   Prob(JB):                        0.907\n",
      "Kurtosis:                       2.782   Cond. No.                         10.8\n",
      "==============================================================================\n",
      "\n",
      "Notes:\n",
      "[1] Standard Errors assume that the covariance matrix of the errors is correctly specified.\n"
     ]
    }
   ],
   "source": [
    "#Regression and Correlation\n",
    "import pandas as pd\n",
    "import statsmodels.api as sm\n",
    "#Create data frame\n",
    "df = pd.DataFrame({'hours': [1, 2, 2, 4, 2, 1, 5, 4, 2, 4, 4,\n",
    "3, 6, 5, 3, 4, 6, 2, 1, 2],'exams': [1, 3, 3, 5, 2, 2, 1, 1, 0,\n",
    "3, 4, 3, 2, 4, 4, 4, 5, 1, 0, 1],'score': [76, 78, 85, 88, 72,\n",
    "69, 94, 94, 88, 92, 90, 75, 96, 90, 82, 85, 99, 83, 62, 76]})\n",
    "#define response variable\n",
    "y = df['score']\n",
    "#define predictor variables\n",
    "x = df[['hours', 'exams']]\n",
    "#add constant to predictor variables\n",
    "x = sm.add_constant(x)\n",
    "#Fit a linear regression model\n",
    "model = sm.OLS(y, x).fit()\n",
    "#view model summary\n",
    "print(model.summary())"
   ]
  },
  {
   "cell_type": "code",
   "execution_count": 8,
   "id": "b45c88bd",
   "metadata": {},
   "outputs": [
    {
     "data": {
      "text/plain": [
       "(0.8640353908896108,\n",
       " 0.6491978887380976,\n",
       " 2,\n",
       " array([[115. ,  42.5,  92.5],\n",
       "        [115. ,  42.5,  92.5]]))"
      ]
     },
     "execution_count": 8,
     "metadata": {},
     "output_type": "execute_result"
    }
   ],
   "source": [
    "# Categorical Data Analysis\n",
    "# Chi-Square Test of Independence\n",
    "import scipy.stats as stats\n",
    "data = [[120, 40, 90],[110, 45, 95]]\n",
    "#perform the Chi-Square Test of Independence\n",
    "stats.chi2_contingency(data)"
   ]
  },
  {
   "cell_type": "code",
   "execution_count": 10,
   "id": "3efe9824",
   "metadata": {},
   "outputs": [
    {
     "data": {
      "text/plain": [
       "Power_divergenceResult(statistic=4.359999999999999, pvalue=0.3594720674366307)"
      ]
     },
     "execution_count": 10,
     "metadata": {},
     "output_type": "execute_result"
    }
   ],
   "source": [
    "#Chi-Square Goodness of Fit Test\n",
    "import scipy.stats as stats\n",
    "expected = [50, 50, 50, 50, 50]\n",
    "observed = [50, 60, 40, 47, 53]\n",
    "#perform Chi-Square Goodness of Fit Test\n",
    "stats.chisquare(f_obs=observed, f_exp=expected)"
   ]
  },
  {
   "cell_type": "code",
   "execution_count": 11,
   "id": "25d2ca7c",
   "metadata": {},
   "outputs": [
    {
     "name": "stdout",
     "output_type": "stream",
     "text": [
      "(4.5, 0.11523854393015787)\n"
     ]
    }
   ],
   "source": [
    "#Fisher’s Exact Test\n",
    "import scipy.stats as stats\n",
    "data = [[8, 4],\n",
    " [4, 9]]\n",
    "print(stats.fisher_exact(data))"
   ]
  },
  {
   "cell_type": "code",
   "execution_count": 13,
   "id": "6cbd0951",
   "metadata": {},
   "outputs": [
    {
     "name": "stdout",
     "output_type": "stream",
     "text": [
      "pvalue      0.00018095049043756332\n",
      "statistic   14.01923076923077\n",
      "pvalue      0.00010321744149513965\n",
      "statistic   15.076923076923077\n"
     ]
    }
   ],
   "source": [
    "#McNemar’s Test\n",
    "from statsmodels.stats.contingency_tables import mcnemar\n",
    "data = [[30, 40],\n",
    " [12, 18]]\n",
    "#McNemar's test with no continuity correction\n",
    "print(mcnemar(data, exact=False))\n",
    "#McNemar's test with continuity correction\n",
    "print(mcnemar(data, exact=False, correction=False))"
   ]
  },
  {
   "cell_type": "code",
   "execution_count": 14,
   "id": "1b40bfba",
   "metadata": {},
   "outputs": [],
   "source": [
    "#Non Parametric Inference"
   ]
  },
  {
   "cell_type": "code",
   "execution_count": 1,
   "id": "a5e38b4a",
   "metadata": {},
   "outputs": [
    {
     "data": {
      "text/plain": [
       "(-1.5, 0.548828125)"
      ]
     },
     "execution_count": 1,
     "metadata": {},
     "output_type": "execute_result"
    }
   ],
   "source": [
    "#The Sign Test\n",
    "from statsmodels.stats.descriptivestats import sign_test\n",
    "data = [136,143,145,141,143,140,136,140,138,138,138,137,138]\n",
    "sign_test(data, 140)"
   ]
  },
  {
   "cell_type": "code",
   "execution_count": 2,
   "id": "46079217",
   "metadata": {},
   "outputs": [
    {
     "data": {
      "text/plain": [
       "MannwhitneyuResult(statistic=50.0, pvalue=0.21138945901258455)"
      ]
     },
     "execution_count": 2,
     "metadata": {},
     "output_type": "execute_result"
    }
   ],
   "source": [
    "#The Mann-Whitney U Test\n",
    "import scipy.stats as stats\n",
    "group1 = [20, 23, 21, 25, 18, 17, 18, 24, 20, 24, 23, 19]\n",
    "group2 = [24, 25, 21, 22, 23, 18, 17, 28, 24, 27, 21, 23]\n",
    "#perform the Mann-Whitney U test\n",
    "stats.mannwhitneyu(group1, group2, alternative='two-sided')"
   ]
  },
  {
   "cell_type": "code",
   "execution_count": 3,
   "id": "299f3fb9",
   "metadata": {},
   "outputs": [
    {
     "name": "stderr",
     "output_type": "stream",
     "text": [
      "C:\\Users\\Muchendu\\AppData\\Roaming\\Python\\Python38\\site-packages\\scipy\\stats\\_morestats.py:3255: UserWarning: Exact p-value calculation does not work if there are zeros. Switching to normal approximation.\n",
      "  warnings.warn(\"Exact p-value calculation does not work if there are \"\n"
     ]
    },
    {
     "data": {
      "text/plain": [
       "WilcoxonResult(statistic=10.5, pvalue=0.044065400736826854)"
      ]
     },
     "execution_count": 3,
     "metadata": {},
     "output_type": "execute_result"
    }
   ],
   "source": [
    "#The Wilcoxon Signed-Rank Test\n",
    "import scipy.stats as stats\n",
    "group1 = [20, 23, 21, 25, 18, 17, 18, 24, 20, 24, 23, 19]\n",
    "group2 = [24, 25, 21, 22, 23, 18, 17, 28, 24, 27, 21, 23]\n",
    "#perform the Wilcoxon-Signed Rank Test\n",
    "stats.wilcoxon(group1, group2)"
   ]
  },
  {
   "cell_type": "code",
   "execution_count": 4,
   "id": "46ffbbde",
   "metadata": {},
   "outputs": [
    {
     "data": {
      "text/plain": [
       "KruskalResult(statistic=6.287801578353988, pvalue=0.043114289703508814)"
      ]
     },
     "execution_count": 4,
     "metadata": {},
     "output_type": "execute_result"
    }
   ],
   "source": [
    "#The Kruskal-wallis Test\n",
    "from scipy import stats\n",
    "group1 = [7, 14, 14, 13, 12, 9, 6, 14, 12, 8]\n",
    "group2 = [15, 17, 13, 15, 15, 13, 9, 12, 10, 8]\n",
    "group3 = [6, 8, 8, 9, 5, 14, 13, 8, 10, 9]\n",
    "#perform Kruskal-Wallis Test\n",
    "stats.kruskal(group1, group2, group3)"
   ]
  },
  {
   "cell_type": "code",
   "execution_count": 6,
   "id": "f05b90ca",
   "metadata": {},
   "outputs": [
    {
     "data": {
      "text/plain": [
       "FriedmanchisquareResult(statistic=13.351351351351344, pvalue=0.0012612201221243594)"
      ]
     },
     "execution_count": 6,
     "metadata": {},
     "output_type": "execute_result"
    }
   ],
   "source": [
    "#The Friedman Test\n",
    "from scipy import stats\n",
    "group1 = [4, 6, 3, 4, 3, 2, 2, 7, 6, 5]\n",
    "group2 = [5, 6, 8, 7, 7, 8, 4, 6, 4, 5]\n",
    "group3 = [2, 4, 4, 3, 2, 2, 1, 4, 3, 2]\n",
    "#perform Friedman Test\n",
    "stats.friedmanchisquare(group1, group2, group3)"
   ]
  },
  {
   "cell_type": "code",
   "execution_count": null,
   "id": "215d32f9",
   "metadata": {},
   "outputs": [],
   "source": []
  }
 ],
 "metadata": {
  "kernelspec": {
   "display_name": "Python 3",
   "language": "python",
   "name": "python3"
  },
  "language_info": {
   "codemirror_mode": {
    "name": "ipython",
    "version": 3
   },
   "file_extension": ".py",
   "mimetype": "text/x-python",
   "name": "python",
   "nbconvert_exporter": "python",
   "pygments_lexer": "ipython3",
   "version": "3.8.8"
  }
 },
 "nbformat": 4,
 "nbformat_minor": 5
}
